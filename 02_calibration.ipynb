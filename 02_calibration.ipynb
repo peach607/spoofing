{
 "cells": [
  {
   "cell_type": "markdown",
   "metadata": {},
   "source": [
    "# Calibration of Imbalance weights $w$, LOB Price Deviation $dp^+$ as well as Market Order Price Impact $dq$\n",
    "\n",
    "## Preparation of Data"
   ]
  },
  {
   "cell_type": "code",
   "execution_count": 1,
   "metadata": {},
   "outputs": [],
   "source": [
    "import pandas as pd\n",
    "import numpy as np\n",
    "from scipy.stats import skewnorm\n",
    "from scipy.optimize import minimize, Bounds\n",
    "from datetime import datetime\n",
    "from bisect import bisect_left\n",
    "import mystic\n",
    "from mystic.symbolic import generate_constraint, generate_solvers, generate_penalty, generate_conditions, simplify\n",
    "from mystic.monitors import VerboseMonitor\n",
    "from mystic.solvers import diffev2, fmin_powell\n",
    "from random import choices\n",
    "import plotly.graph_objs as go\n",
    "from plotly.subplots import make_subplots\n",
    "from plotly.offline import iplot"
   ]
  },
  {
   "cell_type": "code",
   "execution_count": 2,
   "metadata": {},
   "outputs": [
    {
     "data": {
      "text/html": [
       "<div>\n",
       "<style scoped>\n",
       "    .dataframe tbody tr th:only-of-type {\n",
       "        vertical-align: middle;\n",
       "    }\n",
       "\n",
       "    .dataframe tbody tr th {\n",
       "        vertical-align: top;\n",
       "    }\n",
       "\n",
       "    .dataframe thead th {\n",
       "        text-align: right;\n",
       "    }\n",
       "</style>\n",
       "<table border=\"1\" class=\"dataframe\">\n",
       "  <thead>\n",
       "    <tr style=\"text-align: right;\">\n",
       "      <th></th>\n",
       "      <th>time</th>\n",
       "      <th>time_nanos</th>\n",
       "      <th>symbol</th>\n",
       "      <th>venue</th>\n",
       "      <th>side</th>\n",
       "      <th>book_change</th>\n",
       "      <th>price</th>\n",
       "      <th>reason</th>\n",
       "      <th>market_state</th>\n",
       "      <th>pa0</th>\n",
       "      <th>...</th>\n",
       "      <th>va7</th>\n",
       "      <th>vb7</th>\n",
       "      <th>pa8</th>\n",
       "      <th>pb8</th>\n",
       "      <th>va8</th>\n",
       "      <th>vb8</th>\n",
       "      <th>pa9</th>\n",
       "      <th>pb9</th>\n",
       "      <th>va9</th>\n",
       "      <th>vb9</th>\n",
       "    </tr>\n",
       "  </thead>\n",
       "  <tbody>\n",
       "    <tr>\n",
       "      <th>0</th>\n",
       "      <td>2017-04-17 09:30:00</td>\n",
       "      <td>3886390.0</td>\n",
       "      <td>AEM</td>\n",
       "      <td>TSE</td>\n",
       "      <td>Buy</td>\n",
       "      <td>-100.0</td>\n",
       "      <td>62.0</td>\n",
       "      <td>TRADE</td>\n",
       "      <td>Opening</td>\n",
       "      <td>62.0</td>\n",
       "      <td>...</td>\n",
       "      <td>200.0</td>\n",
       "      <td>0.0</td>\n",
       "      <td>62.08</td>\n",
       "      <td>61.92</td>\n",
       "      <td>0.0</td>\n",
       "      <td>0.0</td>\n",
       "      <td>62.09</td>\n",
       "      <td>61.91</td>\n",
       "      <td>0.0</td>\n",
       "      <td>100.0</td>\n",
       "    </tr>\n",
       "    <tr>\n",
       "      <th>1</th>\n",
       "      <td>2017-04-17 09:30:00</td>\n",
       "      <td>3886390.0</td>\n",
       "      <td>AEM</td>\n",
       "      <td>TSE</td>\n",
       "      <td>Sell</td>\n",
       "      <td>-100.0</td>\n",
       "      <td>62.0</td>\n",
       "      <td>TRADE</td>\n",
       "      <td>Opening</td>\n",
       "      <td>62.0</td>\n",
       "      <td>...</td>\n",
       "      <td>200.0</td>\n",
       "      <td>0.0</td>\n",
       "      <td>62.08</td>\n",
       "      <td>61.92</td>\n",
       "      <td>0.0</td>\n",
       "      <td>0.0</td>\n",
       "      <td>62.09</td>\n",
       "      <td>61.91</td>\n",
       "      <td>0.0</td>\n",
       "      <td>100.0</td>\n",
       "    </tr>\n",
       "    <tr>\n",
       "      <th>2</th>\n",
       "      <td>2017-04-17 09:30:00</td>\n",
       "      <td>3886395.0</td>\n",
       "      <td>AEM</td>\n",
       "      <td>TSE</td>\n",
       "      <td>Buy</td>\n",
       "      <td>-100.0</td>\n",
       "      <td>62.0</td>\n",
       "      <td>TRADE</td>\n",
       "      <td>Opening</td>\n",
       "      <td>62.0</td>\n",
       "      <td>...</td>\n",
       "      <td>200.0</td>\n",
       "      <td>0.0</td>\n",
       "      <td>62.08</td>\n",
       "      <td>61.92</td>\n",
       "      <td>0.0</td>\n",
       "      <td>0.0</td>\n",
       "      <td>62.09</td>\n",
       "      <td>61.91</td>\n",
       "      <td>0.0</td>\n",
       "      <td>100.0</td>\n",
       "    </tr>\n",
       "    <tr>\n",
       "      <th>3</th>\n",
       "      <td>2017-04-17 09:30:00</td>\n",
       "      <td>3886395.0</td>\n",
       "      <td>AEM</td>\n",
       "      <td>TSE</td>\n",
       "      <td>Sell</td>\n",
       "      <td>-100.0</td>\n",
       "      <td>62.0</td>\n",
       "      <td>TRADE</td>\n",
       "      <td>Opening</td>\n",
       "      <td>62.0</td>\n",
       "      <td>...</td>\n",
       "      <td>200.0</td>\n",
       "      <td>0.0</td>\n",
       "      <td>62.08</td>\n",
       "      <td>61.92</td>\n",
       "      <td>0.0</td>\n",
       "      <td>0.0</td>\n",
       "      <td>62.09</td>\n",
       "      <td>61.91</td>\n",
       "      <td>0.0</td>\n",
       "      <td>100.0</td>\n",
       "    </tr>\n",
       "    <tr>\n",
       "      <th>4</th>\n",
       "      <td>2017-04-17 09:30:00</td>\n",
       "      <td>3886400.0</td>\n",
       "      <td>AEM</td>\n",
       "      <td>TSE</td>\n",
       "      <td>Sell</td>\n",
       "      <td>-100.0</td>\n",
       "      <td>62.0</td>\n",
       "      <td>TRADE</td>\n",
       "      <td>Opening</td>\n",
       "      <td>62.0</td>\n",
       "      <td>...</td>\n",
       "      <td>200.0</td>\n",
       "      <td>0.0</td>\n",
       "      <td>62.08</td>\n",
       "      <td>61.92</td>\n",
       "      <td>0.0</td>\n",
       "      <td>0.0</td>\n",
       "      <td>62.09</td>\n",
       "      <td>61.91</td>\n",
       "      <td>0.0</td>\n",
       "      <td>100.0</td>\n",
       "    </tr>\n",
       "  </tbody>\n",
       "</table>\n",
       "<p>5 rows × 49 columns</p>\n",
       "</div>"
      ],
      "text/plain": [
       "                  time  time_nanos symbol venue  side  book_change  price  \\\n",
       "0  2017-04-17 09:30:00   3886390.0    AEM   TSE   Buy       -100.0   62.0   \n",
       "1  2017-04-17 09:30:00   3886390.0    AEM   TSE  Sell       -100.0   62.0   \n",
       "2  2017-04-17 09:30:00   3886395.0    AEM   TSE   Buy       -100.0   62.0   \n",
       "3  2017-04-17 09:30:00   3886395.0    AEM   TSE  Sell       -100.0   62.0   \n",
       "4  2017-04-17 09:30:00   3886400.0    AEM   TSE  Sell       -100.0   62.0   \n",
       "\n",
       "  reason market_state   pa0  ...    va7  vb7    pa8    pb8  va8  vb8    pa9  \\\n",
       "0  TRADE      Opening  62.0  ...  200.0  0.0  62.08  61.92  0.0  0.0  62.09   \n",
       "1  TRADE      Opening  62.0  ...  200.0  0.0  62.08  61.92  0.0  0.0  62.09   \n",
       "2  TRADE      Opening  62.0  ...  200.0  0.0  62.08  61.92  0.0  0.0  62.09   \n",
       "3  TRADE      Opening  62.0  ...  200.0  0.0  62.08  61.92  0.0  0.0  62.09   \n",
       "4  TRADE      Opening  62.0  ...  200.0  0.0  62.08  61.92  0.0  0.0  62.09   \n",
       "\n",
       "     pb9  va9    vb9  \n",
       "0  61.91  0.0  100.0  \n",
       "1  61.91  0.0  100.0  \n",
       "2  61.91  0.0  100.0  \n",
       "3  61.91  0.0  100.0  \n",
       "4  61.91  0.0  100.0  \n",
       "\n",
       "[5 rows x 49 columns]"
      ]
     },
     "execution_count": 2,
     "metadata": {},
     "output_type": "execute_result"
    }
   ],
   "source": [
    "#Import the data\n",
    "#Unzip the datafile before loading\n",
    "lob = pd.read_csv('./data/20170417_AEM_limit_order_book.csv')\n",
    "lob.head()"
   ]
  },
  {
   "cell_type": "code",
   "execution_count": 3,
   "metadata": {},
   "outputs": [],
   "source": [
    "#For resampling reasons, we convert the time in seconds.nanosc to prepare for calibration\n",
    "lob['time'] = pd.to_datetime(lob['time']).apply(lambda x: (x - datetime(1970,1,1)).total_seconds())\n",
    "lob['time'] = lob['time'] + 1e-9  * lob['time_nanos']\n",
    "lob.sort_values('time', inplace=True)\n",
    "\n",
    "#Transform unit of price into ticks\n",
    "name_ask = ['pa' + str(i) for i in range(10)]\n",
    "name_bid = ['pb' + str(i) for i in range(10)]\n",
    "lob[name_ask] = 100 * lob[name_ask]\n",
    "lob[name_bid] = 100 * lob[name_bid]"
   ]
  },
  {
   "cell_type": "markdown",
   "metadata": {},
   "source": [
    "## Optimal depth and sample frequenty\n",
    "\n",
    "We sample the data every $f$ seconds and compute best ask price change as $dp_a(t) = p_a(t) - p_a(t-f)$.\n",
    "The sampling frequency is \n",
    "\\begin{equation*}\n",
    "    \\mathop{\\arg\\min}\\limits_{f > 0} |\\sigma^2 - \\sigma_f^2 |     \n",
    "\\end{equation*}\n",
    "when $\\sigma_f^2$ , the variance of $dp_a$ is the closest to a given benchmark variance $\\sigma^2 = 2$."
   ]
  },
  {
   "cell_type": "code",
   "execution_count": 4,
   "metadata": {},
   "outputs": [],
   "source": [
    "def takeClosest(myList, myNumber):\n",
    "    #Assumes myList is sorted. Returns closest value to myNumber.\n",
    "    pos = bisect_left(myList, myNumber)\n",
    "    if pos == 0:\n",
    "        return pos\n",
    "    if pos == len(myList):\n",
    "        return -1\n",
    "    before = myList[pos - 1]\n",
    "    after = myList[pos]\n",
    "    #If two numbers are equally close, return the smallest number.  \n",
    "    if after - myNumber < myNumber - before:\n",
    "        return pos\n",
    "    else:\n",
    "        return pos-1\n",
    "    \n",
    "def get_frequency(nums, day, lob):\n",
    "    #Slice the trading day into nums seconds intervals\n",
    "    s = np.array(list(map(lambda x: (x - datetime(1970,1,1)).total_seconds(), pd.date_range(start= day + ' 13:30:00', end=day + ' 20:00:00', freq= str(nums) + 'S'))))\n",
    "    s1 = np.array(s) - nums\n",
    "    \n",
    "    #Since some intervals might not include orders, approximate them by taking the closest trading time in the data\n",
    "    time_ls = list(lob['time'].values)\n",
    "    pointer1 = [takeClosest(time_ls, i) for i in s1]\n",
    "    pointer2 = [takeClosest(time_ls, i) for i in s]\n",
    "    \n",
    "    #Compute the price change dpa \n",
    "    d = lob['pa0'].values[pointer2] - lob['pa0'].values[pointer1] \n",
    "    d = d[np.where(d != None)]\n",
    "    return np.abs(2 - np.var(d)) "
   ]
  },
  {
   "cell_type": "code",
   "execution_count": 5,
   "metadata": {},
   "outputs": [
    {
     "name": "stdout",
     "output_type": "stream",
     "text": [
      "28\n"
     ]
    }
   ],
   "source": [
    "#Give the date\n",
    "day = '2017-04-17'\n",
    "#Find the optimal sampling frequency between 1 second to 360 seconds\n",
    "x = np.array(range(1,360))\n",
    "y = np.array([get_frequency(i,day, lob) for i in x])\n",
    "nums = x[y == y.min()][0]\n",
    "print(nums)"
   ]
  },
  {
   "cell_type": "code",
   "execution_count": null,
   "metadata": {},
   "outputs": [],
   "source": [
    "#Plot the Figure\n",
    "fig = go.Figure()\n",
    "fig.add_scatter(x = x, y = y)\n",
    "fig.update_yaxes(title = r'$|\\sigma^2 - \\sigma_f^2 | $')\n",
    "fig.update_xaxes(title = r'$f$')\n",
    "iplot(fig)"
   ]
  },
  {
   "cell_type": "markdown",
   "metadata": {},
   "source": [
    "Sample the data every $f$ seconds and since some intervals might not include orders, approximate them by taking the closest trading time in the data.\n",
    "\n",
    "Compute depth $N$ as the 99\\% quantile of empirical sampled price change distribution."
   ]
  },
  {
   "cell_type": "code",
   "execution_count": 6,
   "metadata": {},
   "outputs": [],
   "source": [
    "s = np.array(list(map(lambda x: (x - datetime(1970,1,1)).total_seconds(), pd.date_range(start= day + ' 13:30:00', end=day + ' 20:00:00', freq= str(nums) + 'S'))))\n",
    "s1 = np.array(s) - nums\n",
    "time_ls = list(lob['time'].values)\n",
    "pointer1 = [takeClosest(time_ls, i) for i in s1]\n",
    "pointer2 = [takeClosest(time_ls, i) for i in s]\n",
    "dp_a = lob['pa0'].values[pointer2] - lob['pa0'].values[pointer1]\n",
    "N = int(np.quantile(dp_a, 0.99))"
   ]
  },
  {
   "cell_type": "code",
   "execution_count": null,
   "metadata": {},
   "outputs": [],
   "source": [
    "#Plot the histogram of empirial dp\n",
    "fig = go.Figure()\n",
    "fig.add_histogram(x = dp_a, histnorm = 'probability')\n",
    "iplot(fig)"
   ]
  },
  {
   "cell_type": "markdown",
   "metadata": {},
   "source": [
    "## Compute the weights $w$ as well as $dp^+$ from imbalance, and maximum likelihood.\n",
    "\n",
    "Compute the average imbalance\n",
    "\\begin{equation*}\n",
    "    \\hat{\\imath}(w, t) \n",
    "    = \\frac{\n",
    "        \\sum\\limits_{k\\leq N} w_k \\bar{v}^b_k (t) \n",
    "        }\n",
    "        {\\sum\\limits_{k\\leq N}  w_k \\left(\\bar{v}^b_k (t) + \\bar{v}^a_k (t) \\right)\n",
    "        }\n",
    "\\end{equation*}\n",
    "which sums up order book volumes within a certain time interval weighted by time difference\n",
    "\\begin{align*}\n",
    "    &\\bar{v}^a_k(t) = \\sum\\limits_{t - f \\leq s<t} v_k^a(s) \\Delta s\\\\\n",
    "    &\\bar{v}^b_k(t) = \\sum\\limits_{t - f \\leq s<t} v_k^b(s) \\Delta s\n",
    "\\end{align*}\n",
    "and $\\Delta s_i = s_{i+1} - s_{i}$.\n"
   ]
  },
  {
   "cell_type": "code",
   "execution_count": 7,
   "metadata": {},
   "outputs": [],
   "source": [
    "#Functions to compute the imbalance\n",
    "def sum_limit_order_book(x, pointer1, pointer2, lmo_volume):\n",
    "    left = pointer1[x]\n",
    "    right = pointer2[x]\n",
    "    if left >= right:\n",
    "        return np.zeros(N)\n",
    "    lmo_sum = np.sum(lmo_volume[left:right,:] , axis = 0)  \n",
    "    return lmo_sum.tolist()\n",
    "\n",
    "def imbalance_generate(x, weight, N, ask_sum, bid_sum):\n",
    "    weight = np.array(weight)\n",
    "    if np.sum(ask_sum[x]) == None:\n",
    "        return\n",
    "    B = np.sum(weight * ask_sum[x] + weight * bid_sum[x])\n",
    "    A =  np.sum(weight * (bid_sum[x]))\n",
    "    if B == 0:\n",
    "        return\n",
    "    return A / B"
   ]
  },
  {
   "cell_type": "code",
   "execution_count": 8,
   "metadata": {},
   "outputs": [],
   "source": [
    "#Compute time delta between two orders\n",
    "delta_s = np.diff(time_ls).tolist()\n",
    "delta_s.insert(0 ,0)\n",
    "lob['time_diff'] = delta_s \n",
    "\n",
    "#Weigh the book volume by time delta\n",
    "for i in range(1, N+1):\n",
    "    name_a = 'va' + str(i) \n",
    "    name_b = 'vb' + str(i) \n",
    "    name_aa = 'va-' + str(i) \n",
    "    name_bb = 'vb-' + str(i)\n",
    "    lob[name_aa] = lob[name_a] * lob['time_diff']\n",
    "    lob[name_bb] = lob[name_b] * lob['time_diff']\n",
    "\n",
    "#Sum up the weighted limit order book within f seconds interval\n",
    "name_ask = ['va-' + str(i) for i in range(1, N+1)]\n",
    "name_bid = ['vb-' + str(i) for i in range(1, N+1)]\n",
    "volume_ask = np.array(lob[name_ask])\n",
    "volume_bid = np.array(lob[name_bid])\n",
    "ask_sum = list(map(lambda x: sum_limit_order_book(x, pointer1, pointer2, volume_ask), range(len(pointer1))))\n",
    "bid_sum = list(map(lambda x: sum_limit_order_book(x, pointer1, pointer2, volume_bid), range(len(pointer1))))"
   ]
  },
  {
   "cell_type": "markdown",
   "metadata": {},
   "source": [
    "Maximize the log likelihood function\n",
    "\\begin{equation}\n",
    "   \\max_{dp^+,w} \\frac{1}{M} \\sum^M_{m=1} \\log p\\left(x_m,  \\hat{\\imath}_m \\right)\n",
    "\\end{equation}\n",
    "where $x_m$ is the empirical price change, $\\hat{\\imath}_m$ the average imbalance for a given weight $w$, \n",
    "\\begin{equation*}\n",
    "    p\\left(x_m,  \\hat{\\imath}_m \\right) = dp_{x_m}\\left(\\hat{\\imath}_m \\right) p(\\hat{\\imath}_m)\n",
    "\\end{equation*}\n",
    "where \n",
    "\\begin{equation*}\n",
    "    dp_{x_m} \\left(\\hat{\\imath}_m\\right) = \\hat{\\imath}_m dp^+_{x_m} + \\left( 1-\\hat{\\imath}_m \\right) dp^-_{x_m}\n",
    "\\end{equation*}\n",
    "represents the conditional probability of price change equal to $x_m$ given $\\hat{\\imath}_m$, and $p(\\hat{\\imath}_m)$ is the density of the fitted skewnormal distribution evaluated at $\\hat{\\imath}_m$. \n",
    "\n",
    "Give the constraints that\n",
    "\\begin{align*}\n",
    "     &\\sum\\limits _{k=1}^N w_k = 1\\\\\n",
    "    &\\sum\\limits _{k=-N}^N dp^+_k = 1\n",
    "\\end{align*}"
   ]
  },
  {
   "cell_type": "code",
   "execution_count": 9,
   "metadata": {},
   "outputs": [],
   "source": [
    "#Functions of the computation of maximum likelihood\n",
    "def likelihood(dp_plus, p_I, w, N):\n",
    "    l = []\n",
    "    for i in range(2 * N + 1):\n",
    "        idx = np.where((w[:,1] >= (- N + i)) & (w[:,1] <  (- N + i + 1)))\n",
    "        X1 = w[idx][:,0]\n",
    "        X2 = 1 - w[idx][:,0]\n",
    "        l = np.append(l, (dp_plus[i] * X1 + dp_plus[2 * N - i] * X2) * np.array(p_I)[idx])\n",
    "    l = np.array(l)[~np.isnan(l)]\n",
    "    l = l[l>0]\n",
    "    return - np.sum(np.log(l)) / len(l)\n",
    "\n",
    "def bayes(x):\n",
    "    dp_plus = x[N:]\n",
    "    weight = x[0:N] \n",
    "    #Compute avergae imbalance\n",
    "    imb = list(map(lambda x: imbalance_generate(x, weight, N, ask_sum, bid_sum), range(len(ask_sum))))\n",
    "    #Concatenate the imblance array with dp_a\n",
    "    w = np.append(np.array(imb).reshape(len(imb),1), np.array(dp_a).reshape(len(imb),1), axis = 1)\n",
    "    w = np.array(w[w[:,0] != None]).astype(float)\n",
    "    w = np.array(w[~np.isnan(w[:,0])])\n",
    "    #Fit the imbalance into skewnormal distribution abd compute the probability\n",
    "    a, loc, scale = skewnorm.fit(w[:,0])\n",
    "    p_I = skewnorm.pdf(w[:,0], a = a, scale = scale, loc = loc)\n",
    "    return likelihood(dp_plus, p_I, w, N)"
   ]
  },
  {
   "cell_type": "markdown",
   "metadata": {},
   "source": [
    "## Run the computation of maximum likelihood (takes 5mn)"
   ]
  },
  {
   "cell_type": "code",
   "execution_count": 10,
   "metadata": {},
   "outputs": [
    {
     "name": "stdout",
     "output_type": "stream",
     "text": [
      "Generation 0 has ChiSquare: 1.156092\n",
      "Generation 100 has ChiSquare: 0.761021\n",
      "STOP(\"VTRChangeOverGeneration with {'ftol': 1e-08, 'gtol': 1e-06, 'generations': 30, 'target': 0.0}\")\n",
      "Optimization terminated successfully.\n",
      "         Current function value: 0.758109\n",
      "         Iterations: 156\n",
      "         Function evaluations: 2041\n",
      "Optimization terminated successfully.\n",
      "         Current function value: 0.758034\n",
      "         Iterations: 3\n",
      "         Function evaluations: 961\n"
     ]
    }
   ],
   "source": [
    "#Constraints\n",
    "equations = '+'.join('x' + str(i) for i in range(N)) + '==1' + '\\n' + '+'.join('x' + str(i) for i in range(N,2*N+5)) + '==1'\n",
    "cf = generate_constraint(generate_solvers(simplify(equations)))\n",
    "pf = generate_penalty(generate_conditions(equations), k=1e12)\n",
    "bnds = [(0,1)] * (N + 2 * N + 1)\n",
    "mon = VerboseMonitor(100)\n",
    "x0 =  np.random.uniform(0,1,(2 * N + 1 + N))\n",
    "#Initial weights\n",
    "x0[:N] = x0[:N] / x0[:N].sum() \n",
    "#Initial dp_plus\n",
    "x0[N:] = x0[N:] / x0[N:].sum()\n",
    "#We can test this part serveral times to get a closer solution to global minimum\n",
    "result = diffev2(bayes, x0 = x0, bounds = bnds, constraints=cf, penalty=pf, disp = True, full_output=True, itermon=mon, ftol = 1e-8)\n",
    "#Optimize locally \n",
    "result = fmin_powell(bayes, x0 = result[0], bounds = bnds, constraints=cf, penalty=pf, disp = True, full_output=True, ftol = 1e-8)"
   ]
  },
  {
   "cell_type": "code",
   "execution_count": 33,
   "metadata": {},
   "outputs": [],
   "source": [
    "#Using this method, the optimal weights are stable, however for dp_plus not. So we set weigths and repeat the optimization with repsect to dp_plus\n",
    "weight = result[0][:N]\n",
    "imb = list(map(lambda x: imbalance_generate(x, weight, N, ask_sum, bid_sum), range(len(ask_sum))))\n",
    "w = np.append(np.array(imb).reshape(len(imb),1), np.array(dp_a).reshape(len(imb),1), axis = 1)\n",
    "w = np.array(w[w[:,0] != None]).astype(float)\n",
    "w = np.array(w[~np.isnan(w[:,0])])\n",
    "a, loc, scale = skewnorm.fit(w[:,0])\n",
    "p_I = skewnorm.pdf(w[:,0], a = a, scale = scale, loc = loc)\n",
    "x0 = result[0][N:]\n",
    "cons = ({'type': 'eq', 'fun': lambda x: np.sum(x) - 1}) \n",
    "result1 = minimize(likelihood, x0, constraints = cons, bounds = Bounds(0,1), args = (p_I, w, N)) "
   ]
  },
  {
   "cell_type": "code",
   "execution_count": 34,
   "metadata": {},
   "outputs": [
    {
     "data": {
      "application/vnd.plotly.v1+json": {
       "config": {
        "linkText": "Export to plot.ly",
        "plotlyServerURL": "https://plot.ly",
        "showLink": false
       },
       "data": [
        {
         "showlegend": false,
         "type": "bar",
         "x": [
          0,
          1,
          2,
          3
         ],
         "xaxis": "x",
         "y": [
          0.3601614166885675,
          0.11773052391713883,
          0.3764366031426067,
          0.145671456251687
         ],
         "yaxis": "y"
        },
        {
         "marker": {
          "color": "#4876FF"
         },
         "showlegend": false,
         "type": "bar",
         "x": [
          -4,
          -3,
          -2,
          -1,
          0,
          1,
          2,
          3,
          4
         ],
         "xaxis": "x2",
         "y": [
          1.797824862975864e-17,
          1.6638594731630473e-17,
          4.47932146560537e-18,
          6.288372600415926e-18,
          0.22078387883448172,
          0.34673283847687275,
          0.22721822798659513,
          0.14844105480406813,
          0.05682399989798233
         ],
         "yaxis": "y2"
        }
       ],
       "layout": {
        "annotations": [
         {
          "font": {
           "size": 16
          },
          "showarrow": false,
          "text": "$w$",
          "x": 0.24,
          "xanchor": "center",
          "xref": "paper",
          "y": 1,
          "yanchor": "bottom",
          "yref": "paper"
         },
         {
          "font": {
           "size": 16
          },
          "showarrow": false,
          "text": "$dp^+$",
          "x": 0.76,
          "xanchor": "center",
          "xref": "paper",
          "y": 1,
          "yanchor": "bottom",
          "yref": "paper"
         }
        ],
        "autosize": true,
        "template": {
         "data": {
          "bar": [
           {
            "error_x": {
             "color": "#2a3f5f"
            },
            "error_y": {
             "color": "#2a3f5f"
            },
            "marker": {
             "line": {
              "color": "#E5ECF6",
              "width": 0.5
             }
            },
            "type": "bar"
           }
          ],
          "barpolar": [
           {
            "marker": {
             "line": {
              "color": "#E5ECF6",
              "width": 0.5
             }
            },
            "type": "barpolar"
           }
          ],
          "carpet": [
           {
            "aaxis": {
             "endlinecolor": "#2a3f5f",
             "gridcolor": "white",
             "linecolor": "white",
             "minorgridcolor": "white",
             "startlinecolor": "#2a3f5f"
            },
            "baxis": {
             "endlinecolor": "#2a3f5f",
             "gridcolor": "white",
             "linecolor": "white",
             "minorgridcolor": "white",
             "startlinecolor": "#2a3f5f"
            },
            "type": "carpet"
           }
          ],
          "choropleth": [
           {
            "colorbar": {
             "outlinewidth": 0,
             "ticks": ""
            },
            "type": "choropleth"
           }
          ],
          "contour": [
           {
            "colorbar": {
             "outlinewidth": 0,
             "ticks": ""
            },
            "colorscale": [
             [
              0,
              "#0d0887"
             ],
             [
              0.1111111111111111,
              "#46039f"
             ],
             [
              0.2222222222222222,
              "#7201a8"
             ],
             [
              0.3333333333333333,
              "#9c179e"
             ],
             [
              0.4444444444444444,
              "#bd3786"
             ],
             [
              0.5555555555555556,
              "#d8576b"
             ],
             [
              0.6666666666666666,
              "#ed7953"
             ],
             [
              0.7777777777777778,
              "#fb9f3a"
             ],
             [
              0.8888888888888888,
              "#fdca26"
             ],
             [
              1,
              "#f0f921"
             ]
            ],
            "type": "contour"
           }
          ],
          "contourcarpet": [
           {
            "colorbar": {
             "outlinewidth": 0,
             "ticks": ""
            },
            "type": "contourcarpet"
           }
          ],
          "heatmap": [
           {
            "colorbar": {
             "outlinewidth": 0,
             "ticks": ""
            },
            "colorscale": [
             [
              0,
              "#0d0887"
             ],
             [
              0.1111111111111111,
              "#46039f"
             ],
             [
              0.2222222222222222,
              "#7201a8"
             ],
             [
              0.3333333333333333,
              "#9c179e"
             ],
             [
              0.4444444444444444,
              "#bd3786"
             ],
             [
              0.5555555555555556,
              "#d8576b"
             ],
             [
              0.6666666666666666,
              "#ed7953"
             ],
             [
              0.7777777777777778,
              "#fb9f3a"
             ],
             [
              0.8888888888888888,
              "#fdca26"
             ],
             [
              1,
              "#f0f921"
             ]
            ],
            "type": "heatmap"
           }
          ],
          "heatmapgl": [
           {
            "colorbar": {
             "outlinewidth": 0,
             "ticks": ""
            },
            "colorscale": [
             [
              0,
              "#0d0887"
             ],
             [
              0.1111111111111111,
              "#46039f"
             ],
             [
              0.2222222222222222,
              "#7201a8"
             ],
             [
              0.3333333333333333,
              "#9c179e"
             ],
             [
              0.4444444444444444,
              "#bd3786"
             ],
             [
              0.5555555555555556,
              "#d8576b"
             ],
             [
              0.6666666666666666,
              "#ed7953"
             ],
             [
              0.7777777777777778,
              "#fb9f3a"
             ],
             [
              0.8888888888888888,
              "#fdca26"
             ],
             [
              1,
              "#f0f921"
             ]
            ],
            "type": "heatmapgl"
           }
          ],
          "histogram": [
           {
            "marker": {
             "colorbar": {
              "outlinewidth": 0,
              "ticks": ""
             }
            },
            "type": "histogram"
           }
          ],
          "histogram2d": [
           {
            "colorbar": {
             "outlinewidth": 0,
             "ticks": ""
            },
            "colorscale": [
             [
              0,
              "#0d0887"
             ],
             [
              0.1111111111111111,
              "#46039f"
             ],
             [
              0.2222222222222222,
              "#7201a8"
             ],
             [
              0.3333333333333333,
              "#9c179e"
             ],
             [
              0.4444444444444444,
              "#bd3786"
             ],
             [
              0.5555555555555556,
              "#d8576b"
             ],
             [
              0.6666666666666666,
              "#ed7953"
             ],
             [
              0.7777777777777778,
              "#fb9f3a"
             ],
             [
              0.8888888888888888,
              "#fdca26"
             ],
             [
              1,
              "#f0f921"
             ]
            ],
            "type": "histogram2d"
           }
          ],
          "histogram2dcontour": [
           {
            "colorbar": {
             "outlinewidth": 0,
             "ticks": ""
            },
            "colorscale": [
             [
              0,
              "#0d0887"
             ],
             [
              0.1111111111111111,
              "#46039f"
             ],
             [
              0.2222222222222222,
              "#7201a8"
             ],
             [
              0.3333333333333333,
              "#9c179e"
             ],
             [
              0.4444444444444444,
              "#bd3786"
             ],
             [
              0.5555555555555556,
              "#d8576b"
             ],
             [
              0.6666666666666666,
              "#ed7953"
             ],
             [
              0.7777777777777778,
              "#fb9f3a"
             ],
             [
              0.8888888888888888,
              "#fdca26"
             ],
             [
              1,
              "#f0f921"
             ]
            ],
            "type": "histogram2dcontour"
           }
          ],
          "mesh3d": [
           {
            "colorbar": {
             "outlinewidth": 0,
             "ticks": ""
            },
            "type": "mesh3d"
           }
          ],
          "parcoords": [
           {
            "line": {
             "colorbar": {
              "outlinewidth": 0,
              "ticks": ""
             }
            },
            "type": "parcoords"
           }
          ],
          "pie": [
           {
            "automargin": true,
            "type": "pie"
           }
          ],
          "scatter": [
           {
            "marker": {
             "colorbar": {
              "outlinewidth": 0,
              "ticks": ""
             }
            },
            "type": "scatter"
           }
          ],
          "scatter3d": [
           {
            "line": {
             "colorbar": {
              "outlinewidth": 0,
              "ticks": ""
             }
            },
            "marker": {
             "colorbar": {
              "outlinewidth": 0,
              "ticks": ""
             }
            },
            "type": "scatter3d"
           }
          ],
          "scattercarpet": [
           {
            "marker": {
             "colorbar": {
              "outlinewidth": 0,
              "ticks": ""
             }
            },
            "type": "scattercarpet"
           }
          ],
          "scattergeo": [
           {
            "marker": {
             "colorbar": {
              "outlinewidth": 0,
              "ticks": ""
             }
            },
            "type": "scattergeo"
           }
          ],
          "scattergl": [
           {
            "marker": {
             "colorbar": {
              "outlinewidth": 0,
              "ticks": ""
             }
            },
            "type": "scattergl"
           }
          ],
          "scattermapbox": [
           {
            "marker": {
             "colorbar": {
              "outlinewidth": 0,
              "ticks": ""
             }
            },
            "type": "scattermapbox"
           }
          ],
          "scatterpolar": [
           {
            "marker": {
             "colorbar": {
              "outlinewidth": 0,
              "ticks": ""
             }
            },
            "type": "scatterpolar"
           }
          ],
          "scatterpolargl": [
           {
            "marker": {
             "colorbar": {
              "outlinewidth": 0,
              "ticks": ""
             }
            },
            "type": "scatterpolargl"
           }
          ],
          "scatterternary": [
           {
            "marker": {
             "colorbar": {
              "outlinewidth": 0,
              "ticks": ""
             }
            },
            "type": "scatterternary"
           }
          ],
          "surface": [
           {
            "colorbar": {
             "outlinewidth": 0,
             "ticks": ""
            },
            "colorscale": [
             [
              0,
              "#0d0887"
             ],
             [
              0.1111111111111111,
              "#46039f"
             ],
             [
              0.2222222222222222,
              "#7201a8"
             ],
             [
              0.3333333333333333,
              "#9c179e"
             ],
             [
              0.4444444444444444,
              "#bd3786"
             ],
             [
              0.5555555555555556,
              "#d8576b"
             ],
             [
              0.6666666666666666,
              "#ed7953"
             ],
             [
              0.7777777777777778,
              "#fb9f3a"
             ],
             [
              0.8888888888888888,
              "#fdca26"
             ],
             [
              1,
              "#f0f921"
             ]
            ],
            "type": "surface"
           }
          ],
          "table": [
           {
            "cells": {
             "fill": {
              "color": "#EBF0F8"
             },
             "line": {
              "color": "white"
             }
            },
            "header": {
             "fill": {
              "color": "#C8D4E3"
             },
             "line": {
              "color": "white"
             }
            },
            "type": "table"
           }
          ]
         },
         "layout": {
          "annotationdefaults": {
           "arrowcolor": "#2a3f5f",
           "arrowhead": 0,
           "arrowwidth": 1
          },
          "autotypenumbers": "strict",
          "coloraxis": {
           "colorbar": {
            "outlinewidth": 0,
            "ticks": ""
           }
          },
          "colorscale": {
           "diverging": [
            [
             0,
             "#8e0152"
            ],
            [
             0.1,
             "#c51b7d"
            ],
            [
             0.2,
             "#de77ae"
            ],
            [
             0.3,
             "#f1b6da"
            ],
            [
             0.4,
             "#fde0ef"
            ],
            [
             0.5,
             "#f7f7f7"
            ],
            [
             0.6,
             "#e6f5d0"
            ],
            [
             0.7,
             "#b8e186"
            ],
            [
             0.8,
             "#7fbc41"
            ],
            [
             0.9,
             "#4d9221"
            ],
            [
             1,
             "#276419"
            ]
           ],
           "sequential": [
            [
             0,
             "#0d0887"
            ],
            [
             0.1111111111111111,
             "#46039f"
            ],
            [
             0.2222222222222222,
             "#7201a8"
            ],
            [
             0.3333333333333333,
             "#9c179e"
            ],
            [
             0.4444444444444444,
             "#bd3786"
            ],
            [
             0.5555555555555556,
             "#d8576b"
            ],
            [
             0.6666666666666666,
             "#ed7953"
            ],
            [
             0.7777777777777778,
             "#fb9f3a"
            ],
            [
             0.8888888888888888,
             "#fdca26"
            ],
            [
             1,
             "#f0f921"
            ]
           ],
           "sequentialminus": [
            [
             0,
             "#0d0887"
            ],
            [
             0.1111111111111111,
             "#46039f"
            ],
            [
             0.2222222222222222,
             "#7201a8"
            ],
            [
             0.3333333333333333,
             "#9c179e"
            ],
            [
             0.4444444444444444,
             "#bd3786"
            ],
            [
             0.5555555555555556,
             "#d8576b"
            ],
            [
             0.6666666666666666,
             "#ed7953"
            ],
            [
             0.7777777777777778,
             "#fb9f3a"
            ],
            [
             0.8888888888888888,
             "#fdca26"
            ],
            [
             1,
             "#f0f921"
            ]
           ]
          },
          "colorway": [
           "#636efa",
           "#EF553B",
           "#00cc96",
           "#ab63fa",
           "#FFA15A",
           "#19d3f3",
           "#FF6692",
           "#B6E880",
           "#FF97FF",
           "#FECB52"
          ],
          "font": {
           "color": "#2a3f5f"
          },
          "geo": {
           "bgcolor": "white",
           "lakecolor": "white",
           "landcolor": "#E5ECF6",
           "showlakes": true,
           "showland": true,
           "subunitcolor": "white"
          },
          "hoverlabel": {
           "align": "left"
          },
          "hovermode": "closest",
          "mapbox": {
           "style": "light"
          },
          "paper_bgcolor": "white",
          "plot_bgcolor": "#E5ECF6",
          "polar": {
           "angularaxis": {
            "gridcolor": "white",
            "linecolor": "white",
            "ticks": ""
           },
           "bgcolor": "#E5ECF6",
           "radialaxis": {
            "gridcolor": "white",
            "linecolor": "white",
            "ticks": ""
           }
          },
          "scene": {
           "xaxis": {
            "backgroundcolor": "#E5ECF6",
            "gridcolor": "white",
            "gridwidth": 2,
            "linecolor": "white",
            "showbackground": true,
            "ticks": "",
            "zerolinecolor": "white"
           },
           "yaxis": {
            "backgroundcolor": "#E5ECF6",
            "gridcolor": "white",
            "gridwidth": 2,
            "linecolor": "white",
            "showbackground": true,
            "ticks": "",
            "zerolinecolor": "white"
           },
           "zaxis": {
            "backgroundcolor": "#E5ECF6",
            "gridcolor": "white",
            "gridwidth": 2,
            "linecolor": "white",
            "showbackground": true,
            "ticks": "",
            "zerolinecolor": "white"
           }
          },
          "shapedefaults": {
           "line": {
            "color": "#2a3f5f"
           }
          },
          "ternary": {
           "aaxis": {
            "gridcolor": "white",
            "linecolor": "white",
            "ticks": ""
           },
           "baxis": {
            "gridcolor": "white",
            "linecolor": "white",
            "ticks": ""
           },
           "bgcolor": "#E5ECF6",
           "caxis": {
            "gridcolor": "white",
            "linecolor": "white",
            "ticks": ""
           }
          },
          "title": {
           "x": 0.05
          },
          "xaxis": {
           "automargin": true,
           "gridcolor": "white",
           "linecolor": "white",
           "ticks": "",
           "title": {
            "standoff": 15
           },
           "zerolinecolor": "white",
           "zerolinewidth": 2
          },
          "yaxis": {
           "automargin": true,
           "gridcolor": "white",
           "linecolor": "white",
           "ticks": "",
           "title": {
            "standoff": 15
           },
           "zerolinecolor": "white",
           "zerolinewidth": 2
          }
         }
        },
        "xaxis": {
         "anchor": "y",
         "autorange": true,
         "domain": [
          0,
          0.48
         ],
         "dtick": 1,
         "range": [
          -0.5,
          3.5
         ],
         "type": "linear"
        },
        "xaxis2": {
         "anchor": "y2",
         "autorange": true,
         "domain": [
          0.52,
          1
         ],
         "dtick": 1,
         "range": [
          -4.5,
          4.5
         ],
         "type": "linear"
        },
        "yaxis": {
         "anchor": "x",
         "autorange": true,
         "domain": [
          0,
          1
         ],
         "range": [
          0,
          0.396249055939586
         ],
         "type": "linear"
        },
        "yaxis2": {
         "anchor": "x2",
         "autorange": true,
         "domain": [
          0,
          1
         ],
         "matches": "y",
         "range": [
          0,
          0.396249055939586
         ],
         "showticklabels": false,
         "type": "linear"
        }
       }
      },
      "image/png": "[encoded data removed]",
      "text/html": [
       "<div>                            <div id=\"f3b1e785-db02-4de9-8f1d-9c1251bf6ed3\" class=\"plotly-graph-div\" style=\"height:525px; width:100%;\"></div>            <script type=\"text/javascript\">                require([\"plotly\"], function(Plotly) {                    window.PLOTLYENV=window.PLOTLYENV || {};                                    if (document.getElementById(\"f3b1e785-db02-4de9-8f1d-9c1251bf6ed3\")) {                    Plotly.newPlot(                        \"f3b1e785-db02-4de9-8f1d-9c1251bf6ed3\",                        [{\"showlegend\": false, \"type\": \"bar\", \"x\": [0, 1, 2, 3], \"xaxis\": \"x\", \"y\": [0.3601614166885675, 0.11773052391713883, 0.3764366031426067, 0.145671456251687], \"yaxis\": \"y\"}, {\"marker\": {\"color\": \"#4876FF\"}, \"showlegend\": false, \"type\": \"bar\", \"x\": [-4, -3, -2, -1, 0, 1, 2, 3, 4], \"xaxis\": \"x2\", \"y\": [1.797824862975864e-17, 1.6638594731630473e-17, 4.47932146560537e-18, 6.288372600415926e-18, 0.22078387883448172, 0.34673283847687275, 0.22721822798659513, 0.14844105480406813, 0.05682399989798233], \"yaxis\": \"y2\"}],                        {\"annotations\": [{\"font\": {\"size\": 16}, \"showarrow\": false, \"text\": \"$w$\", \"x\": 0.24, \"xanchor\": \"center\", \"xref\": \"paper\", \"y\": 1.0, \"yanchor\": \"bottom\", \"yref\": \"paper\"}, {\"font\": {\"size\": 16}, \"showarrow\": false, \"text\": \"$dp^+$\", \"x\": 0.76, \"xanchor\": \"center\", \"xref\": \"paper\", \"y\": 1.0, \"yanchor\": \"bottom\", \"yref\": \"paper\"}], \"template\": {\"data\": {\"bar\": [{\"error_x\": {\"color\": \"#2a3f5f\"}, \"error_y\": {\"color\": \"#2a3f5f\"}, \"marker\": {\"line\": {\"color\": \"#E5ECF6\", \"width\": 0.5}}, \"type\": \"bar\"}], \"barpolar\": [{\"marker\": {\"line\": {\"color\": \"#E5ECF6\", \"width\": 0.5}}, \"type\": \"barpolar\"}], \"carpet\": [{\"aaxis\": {\"endlinecolor\": \"#2a3f5f\", \"gridcolor\": \"white\", \"linecolor\": \"white\", \"minorgridcolor\": \"white\", \"startlinecolor\": \"#2a3f5f\"}, \"baxis\": {\"endlinecolor\": \"#2a3f5f\", \"gridcolor\": \"white\", \"linecolor\": \"white\", \"minorgridcolor\": \"white\", \"startlinecolor\": \"#2a3f5f\"}, \"type\": \"carpet\"}], \"choropleth\": [{\"colorbar\": {\"outlinewidth\": 0, \"ticks\": \"\"}, \"type\": \"choropleth\"}], \"contour\": [{\"colorbar\": {\"outlinewidth\": 0, \"ticks\": \"\"}, \"colorscale\": [[0.0, \"#0d0887\"], [0.1111111111111111, \"#46039f\"], [0.2222222222222222, \"#7201a8\"], [0.3333333333333333, \"#9c179e\"], [0.4444444444444444, \"#bd3786\"], [0.5555555555555556, \"#d8576b\"], [0.6666666666666666, \"#ed7953\"], [0.7777777777777778, \"#fb9f3a\"], [0.8888888888888888, \"#fdca26\"], [1.0, \"#f0f921\"]], \"type\": \"contour\"}], \"contourcarpet\": [{\"colorbar\": {\"outlinewidth\": 0, \"ticks\": \"\"}, \"type\": \"contourcarpet\"}], \"heatmap\": [{\"colorbar\": {\"outlinewidth\": 0, \"ticks\": \"\"}, \"colorscale\": [[0.0, \"#0d0887\"], [0.1111111111111111, \"#46039f\"], [0.2222222222222222, \"#7201a8\"], [0.3333333333333333, \"#9c179e\"], [0.4444444444444444, \"#bd3786\"], [0.5555555555555556, \"#d8576b\"], [0.6666666666666666, \"#ed7953\"], [0.7777777777777778, \"#fb9f3a\"], [0.8888888888888888, \"#fdca26\"], [1.0, \"#f0f921\"]], \"type\": \"heatmap\"}], \"heatmapgl\": [{\"colorbar\": {\"outlinewidth\": 0, \"ticks\": \"\"}, \"colorscale\": [[0.0, \"#0d0887\"], [0.1111111111111111, \"#46039f\"], [0.2222222222222222, \"#7201a8\"], [0.3333333333333333, \"#9c179e\"], [0.4444444444444444, \"#bd3786\"], [0.5555555555555556, \"#d8576b\"], [0.6666666666666666, \"#ed7953\"], [0.7777777777777778, \"#fb9f3a\"], [0.8888888888888888, \"#fdca26\"], [1.0, \"#f0f921\"]], \"type\": \"heatmapgl\"}], \"histogram\": [{\"marker\": {\"colorbar\": {\"outlinewidth\": 0, \"ticks\": \"\"}}, \"type\": \"histogram\"}], \"histogram2d\": [{\"colorbar\": {\"outlinewidth\": 0, \"ticks\": \"\"}, \"colorscale\": [[0.0, \"#0d0887\"], [0.1111111111111111, \"#46039f\"], [0.2222222222222222, \"#7201a8\"], [0.3333333333333333, \"#9c179e\"], [0.4444444444444444, \"#bd3786\"], [0.5555555555555556, \"#d8576b\"], [0.6666666666666666, \"#ed7953\"], [0.7777777777777778, \"#fb9f3a\"], [0.8888888888888888, \"#fdca26\"], [1.0, \"#f0f921\"]], \"type\": \"histogram2d\"}], \"histogram2dcontour\": [{\"colorbar\": {\"outlinewidth\": 0, \"ticks\": \"\"}, \"colorscale\": [[0.0, \"#0d0887\"], [0.1111111111111111, \"#46039f\"], [0.2222222222222222, \"#7201a8\"], [0.3333333333333333, \"#9c179e\"], [0.4444444444444444, \"#bd3786\"], [0.5555555555555556, \"#d8576b\"], [0.6666666666666666, \"#ed7953\"], [0.7777777777777778, \"#fb9f3a\"], [0.8888888888888888, \"#fdca26\"], [1.0, \"#f0f921\"]], \"type\": \"histogram2dcontour\"}], \"mesh3d\": [{\"colorbar\": {\"outlinewidth\": 0, \"ticks\": \"\"}, \"type\": \"mesh3d\"}], \"parcoords\": [{\"line\": {\"colorbar\": {\"outlinewidth\": 0, \"ticks\": \"\"}}, \"type\": \"parcoords\"}], \"pie\": [{\"automargin\": true, \"type\": \"pie\"}], \"scatter\": [{\"marker\": {\"colorbar\": {\"outlinewidth\": 0, \"ticks\": \"\"}}, \"type\": \"scatter\"}], \"scatter3d\": [{\"line\": {\"colorbar\": {\"outlinewidth\": 0, \"ticks\": \"\"}}, \"marker\": {\"colorbar\": {\"outlinewidth\": 0, \"ticks\": \"\"}}, \"type\": \"scatter3d\"}], \"scattercarpet\": [{\"marker\": {\"colorbar\": {\"outlinewidth\": 0, \"ticks\": \"\"}}, \"type\": \"scattercarpet\"}], \"scattergeo\": [{\"marker\": {\"colorbar\": {\"outlinewidth\": 0, \"ticks\": \"\"}}, \"type\": \"scattergeo\"}], \"scattergl\": [{\"marker\": {\"colorbar\": {\"outlinewidth\": 0, \"ticks\": \"\"}}, \"type\": \"scattergl\"}], \"scattermapbox\": [{\"marker\": {\"colorbar\": {\"outlinewidth\": 0, \"ticks\": \"\"}}, \"type\": \"scattermapbox\"}], \"scatterpolar\": [{\"marker\": {\"colorbar\": {\"outlinewidth\": 0, \"ticks\": \"\"}}, \"type\": \"scatterpolar\"}], \"scatterpolargl\": [{\"marker\": {\"colorbar\": {\"outlinewidth\": 0, \"ticks\": \"\"}}, \"type\": \"scatterpolargl\"}], \"scatterternary\": [{\"marker\": {\"colorbar\": {\"outlinewidth\": 0, \"ticks\": \"\"}}, \"type\": \"scatterternary\"}], \"surface\": [{\"colorbar\": {\"outlinewidth\": 0, \"ticks\": \"\"}, \"colorscale\": [[0.0, \"#0d0887\"], [0.1111111111111111, \"#46039f\"], [0.2222222222222222, \"#7201a8\"], [0.3333333333333333, \"#9c179e\"], [0.4444444444444444, \"#bd3786\"], [0.5555555555555556, \"#d8576b\"], [0.6666666666666666, \"#ed7953\"], [0.7777777777777778, \"#fb9f3a\"], [0.8888888888888888, \"#fdca26\"], [1.0, \"#f0f921\"]], \"type\": \"surface\"}], \"table\": [{\"cells\": {\"fill\": {\"color\": \"#EBF0F8\"}, \"line\": {\"color\": \"white\"}}, \"header\": {\"fill\": {\"color\": \"#C8D4E3\"}, \"line\": {\"color\": \"white\"}}, \"type\": \"table\"}]}, \"layout\": {\"annotationdefaults\": {\"arrowcolor\": \"#2a3f5f\", \"arrowhead\": 0, \"arrowwidth\": 1}, \"autotypenumbers\": \"strict\", \"coloraxis\": {\"colorbar\": {\"outlinewidth\": 0, \"ticks\": \"\"}}, \"colorscale\": {\"diverging\": [[0, \"#8e0152\"], [0.1, \"#c51b7d\"], [0.2, \"#de77ae\"], [0.3, \"#f1b6da\"], [0.4, \"#fde0ef\"], [0.5, \"#f7f7f7\"], [0.6, \"#e6f5d0\"], [0.7, \"#b8e186\"], [0.8, \"#7fbc41\"], [0.9, \"#4d9221\"], [1, \"#276419\"]], \"sequential\": [[0.0, \"#0d0887\"], [0.1111111111111111, \"#46039f\"], [0.2222222222222222, \"#7201a8\"], [0.3333333333333333, \"#9c179e\"], [0.4444444444444444, \"#bd3786\"], [0.5555555555555556, \"#d8576b\"], [0.6666666666666666, \"#ed7953\"], [0.7777777777777778, \"#fb9f3a\"], [0.8888888888888888, \"#fdca26\"], [1.0, \"#f0f921\"]], \"sequentialminus\": [[0.0, \"#0d0887\"], [0.1111111111111111, \"#46039f\"], [0.2222222222222222, \"#7201a8\"], [0.3333333333333333, \"#9c179e\"], [0.4444444444444444, \"#bd3786\"], [0.5555555555555556, \"#d8576b\"], [0.6666666666666666, \"#ed7953\"], [0.7777777777777778, \"#fb9f3a\"], [0.8888888888888888, \"#fdca26\"], [1.0, \"#f0f921\"]]}, \"colorway\": [\"#636efa\", \"#EF553B\", \"#00cc96\", \"#ab63fa\", \"#FFA15A\", \"#19d3f3\", \"#FF6692\", \"#B6E880\", \"#FF97FF\", \"#FECB52\"], \"font\": {\"color\": \"#2a3f5f\"}, \"geo\": {\"bgcolor\": \"white\", \"lakecolor\": \"white\", \"landcolor\": \"#E5ECF6\", \"showlakes\": true, \"showland\": true, \"subunitcolor\": \"white\"}, \"hoverlabel\": {\"align\": \"left\"}, \"hovermode\": \"closest\", \"mapbox\": {\"style\": \"light\"}, \"paper_bgcolor\": \"white\", \"plot_bgcolor\": \"#E5ECF6\", \"polar\": {\"angularaxis\": {\"gridcolor\": \"white\", \"linecolor\": \"white\", \"ticks\": \"\"}, \"bgcolor\": \"#E5ECF6\", \"radialaxis\": {\"gridcolor\": \"white\", \"linecolor\": \"white\", \"ticks\": \"\"}}, \"scene\": {\"xaxis\": {\"backgroundcolor\": \"#E5ECF6\", \"gridcolor\": \"white\", \"gridwidth\": 2, \"linecolor\": \"white\", \"showbackground\": true, \"ticks\": \"\", \"zerolinecolor\": \"white\"}, \"yaxis\": {\"backgroundcolor\": \"#E5ECF6\", \"gridcolor\": \"white\", \"gridwidth\": 2, \"linecolor\": \"white\", \"showbackground\": true, \"ticks\": \"\", \"zerolinecolor\": \"white\"}, \"zaxis\": {\"backgroundcolor\": \"#E5ECF6\", \"gridcolor\": \"white\", \"gridwidth\": 2, \"linecolor\": \"white\", \"showbackground\": true, \"ticks\": \"\", \"zerolinecolor\": \"white\"}}, \"shapedefaults\": {\"line\": {\"color\": \"#2a3f5f\"}}, \"ternary\": {\"aaxis\": {\"gridcolor\": \"white\", \"linecolor\": \"white\", \"ticks\": \"\"}, \"baxis\": {\"gridcolor\": \"white\", \"linecolor\": \"white\", \"ticks\": \"\"}, \"bgcolor\": \"#E5ECF6\", \"caxis\": {\"gridcolor\": \"white\", \"linecolor\": \"white\", \"ticks\": \"\"}}, \"title\": {\"x\": 0.05}, \"xaxis\": {\"automargin\": true, \"gridcolor\": \"white\", \"linecolor\": \"white\", \"ticks\": \"\", \"title\": {\"standoff\": 15}, \"zerolinecolor\": \"white\", \"zerolinewidth\": 2}, \"yaxis\": {\"automargin\": true, \"gridcolor\": \"white\", \"linecolor\": \"white\", \"ticks\": \"\", \"title\": {\"standoff\": 15}, \"zerolinecolor\": \"white\", \"zerolinewidth\": 2}}}, \"xaxis\": {\"anchor\": \"y\", \"domain\": [0.0, 0.48], \"dtick\": 1}, \"xaxis2\": {\"anchor\": \"y2\", \"domain\": [0.52, 1.0], \"dtick\": 1}, \"yaxis\": {\"anchor\": \"x\", \"domain\": [0.0, 1.0]}, \"yaxis2\": {\"anchor\": \"x2\", \"domain\": [0.0, 1.0], \"matches\": \"y\", \"showticklabels\": false}},                        {\"responsive\": true}                    ).then(function(){\n",
       "                            \n",
       "var gd = document.getElementById('f3b1e785-db02-4de9-8f1d-9c1251bf6ed3');\n",
       "var x = new MutationObserver(function (mutations, observer) {{\n",
       "        var display = window.getComputedStyle(gd).display;\n",
       "        if (!display || display === 'none') {{\n",
       "            console.log([gd, 'removed!']);\n",
       "            Plotly.purge(gd);\n",
       "            observer.disconnect();\n",
       "        }}\n",
       "}});\n",
       "\n",
       "// Listen for the removal of the full notebook cells\n",
       "var notebookContainer = gd.closest('#notebook-container');\n",
       "if (notebookContainer) {{\n",
       "    x.observe(notebookContainer, {childList: true});\n",
       "}}\n",
       "\n",
       "// Listen for the clearing of the current output cell\n",
       "var outputEl = gd.closest('.output');\n",
       "if (outputEl) {{\n",
       "    x.observe(outputEl, {childList: true});\n",
       "}}\n",
       "\n",
       "                        })                };                });            </script>        </div>"
      ]
     },
     "metadata": {},
     "output_type": "display_data"
    }
   ],
   "source": [
    "#Plot the weights and dp_plus\n",
    "fig = make_subplots(rows=1, cols=2, horizontal_spacing=0.04, shared_yaxes=True, subplot_titles= (r'$w$',r'$dp^+$'))\n",
    "fig.add_bar(x = np.arange(N), y = result[0][:N],row = 1, col = 1, showlegend = False)\n",
    "fig.add_bar(x = np.arange(-N,N+1), y = result1.x, marker_color='#4876FF',row = 1, col = 2, showlegend = False)\n",
    "fig.update_xaxes(dtick = 1)\n",
    "iplot(fig)"
   ]
  },
  {
   "cell_type": "markdown",
   "metadata": {},
   "source": [
    "## Compute Market Orders Price Impact $dq$\n",
    "$dq$ is the probability that the price moves by $k$ ticks triggered by market orders.\n",
    "Thus for each market order, compute\n",
    "\\begin{equation*}\n",
    "    F(H) = \\inf \\{ x\\in \\mathbb{N}_0 : \\sum_{k=0}^x v_k \\geq H\\}\n",
    "\\end{equation*}\n",
    "where $H$ is the volume of the market order. We derive $dq$ from the empirical distribution."
   ]
  },
  {
   "cell_type": "code",
   "execution_count": null,
   "metadata": {},
   "outputs": [],
   "source": [
    "#Compute the total market order volumes within the intervals\n",
    "def sum_H_generate(x, pointer1, pointer2, H):\n",
    "    left = pointer1[x]\n",
    "    right = pointer2[x]\n",
    "    if left >= right:\n",
    "        return\n",
    "    h = np.sum(H[left:right])\n",
    "    return h\n",
    "\n",
    "#Extract all the market orders\n",
    "m = lob.loc[(lob['reason'] == 'TRADE') & (lob['side'] == 'Buy') & (lob['market_state'] == 'Opening') | (lob['reason'] == 'TRADE') & (lob['side'] == 'Sell') & (lob['market_state'] == 'Open') ]\n",
    "time_ls = list(m['time'].values)\n",
    "pointer1 = np.array([takeClosest(time_ls, i) for i in s1])\n",
    "pointer2 = np.array([takeClosest(time_ls, i) for i in s])\n",
    "pointer3 = pointer1[np.where((pointer1 - pointer2)!=0)[0]]\n",
    "pointer4 = pointer2[np.where((pointer1 - pointer2)!=0)[0]]\n",
    "#Compute the empirical distribution of H \n",
    "H = np.array(list(map(lambda x: sum_H_generate(x, pointer3, pointer4, - m['book_change'].values), range(len(pointer3)))) )\n",
    "H = H[np.where(H != None)]\n",
    "#Set the upper bound of distribution of H as its 95% quantile and derive H range for simaulation\n",
    "H_em = np.zeros(int(np.quantile(H,0.95)/100))\n",
    "for i in range(len(H_em)):\n",
    "    H_em[i] = len(H[(i * 100 < H) & (H <= (i+1) * 100)]) / len(H)\n",
    "H = 100 * np.arange(int(np.quantile(H, 0.95) / 100))"
   ]
  },
  {
   "cell_type": "code",
   "execution_count": null,
   "metadata": {},
   "outputs": [],
   "source": [
    "#Since dq is in [-N,N] and by the definition of F(H), we have to consider limit order book 2 ticks deeper.\n",
    "N = N + 2\n",
    "#The inverse of cumulative sum of limit order book at H\n",
    "def inv(v, H):\n",
    "    s = 0\n",
    "    if H >= np.sum(v):\n",
    "        return N\n",
    "    for i in range(0,len(v)):\n",
    "        s = s + v[i]\n",
    "        if s > H:\n",
    "            return i\n",
    "        if s == H:\n",
    "            return i + 1\n",
    "        \n",
    "#Use monte carlo to simulate F(H) for each limit order book\n",
    "def q_simulation(df, H, H_em):\n",
    "    #HH = H[H <= np.sum(df)]\n",
    "    H_sample = choices(H, H_em, k = 100)\n",
    "    l = np.array(list(map(lambda x : inv(df,x), H_sample)))\n",
    "    return l \n",
    "name_ask = ['va' + str(i) for i in range(1, N + 1)]\n",
    "df = lob[name_ask].values\n",
    "data = np.array(list(map(lambda x: q_simulation(df[x], H, H_em), range(len(df)))))"
   ]
  },
  {
   "cell_type": "code",
   "execution_count": null,
   "metadata": {},
   "outputs": [],
   "source": [
    "#Compute dq \n",
    "data = np.concatenate(data)\n",
    "data = data[data != None]\n",
    "qq = np.zeros(N)\n",
    "for i in range(0, N):\n",
    "    qq[i] = len(data[data >= i]) / len(data)\n",
    "dq = np.zeros(2 * N -1)\n",
    "dq[:N - 1] = qq[1 : N][::-1]\n",
    "dq[N:] = qq[1:N]\n",
    "dq[N - 1] = 2 * qq[0]\n",
    "dq= dq / np.sum(dq)\n",
    "dq = dq[1:len(dq)-1] \n",
    "dq"
   ]
  }
 ],
 "metadata": {
  "kernelspec": {
   "display_name": "Python 3",
   "language": "python",
   "name": "python3"
  },
  "language_info": {
   "codemirror_mode": {
    "name": "ipython",
    "version": 3
   },
   "file_extension": ".py",
   "mimetype": "text/x-python",
   "name": "python",
   "nbconvert_exporter": "python",
   "pygments_lexer": "ipython3",
   "version": "3.7.11"
  }
 },
 "nbformat": 4,
 "nbformat_minor": 4
}
