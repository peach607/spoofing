{
 "cells": [
  {
   "cell_type": "code",
   "execution_count": null,
   "metadata": {},
   "outputs": [],
   "source": [
    "import pandas as pd\n",
    "import numpy as np"
   ]
  },
  {
   "cell_type": "code",
   "execution_count": null,
   "metadata": {},
   "outputs": [],
   "source": [
    "# read the original data\n",
    "df = pd.read_csv('./data/20170417_AEM_original.csv')\n",
    "df.head()"
   ]
  },
  {
   "cell_type": "markdown",
   "metadata": {},
   "source": [
    "When the market state is\n",
    "* \"nan\" : The market is closed and just receive orders. \n",
    "* \"Pre-open\" : From 7am to 9:30am. Orders may be entered, but will not be executed. The COP is displayed and continuously updated.\n",
    "* \"Opening\" :  Market on Open (MOO) at 9:30am. All matching orders are executed at a single opening trade price with any remaining orders carrying through to the continuous limit order book.\n",
    "* \"Open\" : Continuous Trading from 9:30 to 4pm - All regular order types are accepted.\n",
    "* 'MOC Imbalance' : MOC Imbalance market from 3:40pm to 4pm.\n",
    "* 'CCP Determination' : Calculated Closing Price (“CCP”) Determination at 4pm.\n",
    "* 'Extended Hours CXLs' : Post Market Cancel Session from 4:10pm to 4:15pm- During this session, open orders may be cancelled by the dealer.\n",
    "* 'Extended Hours Open' : Extended Trading Session from 4:15pm to 5pm - Orders at the last sale price are accepted.\n",
    "\n",
    "See https://www.tsx.com/trading/calendars-and-trading-hours/trading-hours"
   ]
  },
  {
   "cell_type": "code",
   "execution_count": null,
   "metadata": {},
   "outputs": [],
   "source": [
    "df['market_state'].unique()"
   ]
  },
  {
   "cell_type": "markdown",
   "metadata": {},
   "source": [
    "Order types :\n",
    "* \"BOD\" : Orders sent when the market is closed.\n",
    "* \"Booked\" : Booked limit orders.\n",
    "* \"CANCELLED\" : Cancelled limit orders.\n",
    "* \"TRADE\" : Market orders.\n",
    "* \"Undisclosed\" : Compensator of an unfilled market order.\n",
    "* \"PRICE_CHANGE:COP\", \"PRICE_CHANGE:AssignLimit\" : Orders during preopen when calculting the opening price.\n",
    "\n",
    "See https://www.tsx.com/resource/en/133"
   ]
  },
  {
   "cell_type": "code",
   "execution_count": null,
   "metadata": {},
   "outputs": [],
   "source": [
    "df['reason'].unique()"
   ]
  },
  {
   "cell_type": "markdown",
   "metadata": {},
   "source": [
    "When the market is Pre-open, we groupby orders by its price and generate a sequence of all the bids and offers."
   ]
  },
  {
   "cell_type": "code",
   "execution_count": null,
   "metadata": {},
   "outputs": [],
   "source": [
    "def nonrecursive_order_book(position, df):\n",
    "    slice_df = df.loc[:position]\n",
    "\n",
    "    lob_buy = slice_df[slice_df.side == 'Buy'][['price', 'book_change']]\n",
    "    lob_buy = lob_buy.groupby('price').sum()\n",
    "    lob_buy = lob_buy[lob_buy['book_change'] > 0]\n",
    "\n",
    "    lob_sell = slice_df[slice_df.side == 'Sell'][['price', 'book_change']]\n",
    "    lob_sell = lob_sell.groupby('price').sum()\n",
    "    lob_sell = lob_sell[lob_sell['book_change'] > 0]\n",
    "\n",
    "    return lob_buy, lob_sell\n",
    "\n",
    "\n",
    "#set depth of the limit order book\n",
    "N = 5\n",
    "#slice the pre-open data\n",
    "start = df[df['market_state'] == 'Pre-open'].index[-1]+1\n",
    "lob_buy, lob_sell = nonrecursive_order_book(start, df)\n",
    "\n",
    "#convert the price and volume sequence into dictionary\n",
    "lob_sell_dict = {}\n",
    "for price in lob_sell.index.values:\n",
    "    lob_sell_dict[price] = lob_sell.loc[price]['book_change']\n",
    "lob_buy_dict = {}\n",
    "for price in lob_buy.index.values:\n",
    "    lob_buy_dict[price] = lob_buy.loc[price]['book_change']"
   ]
  },
  {
   "cell_type": "markdown",
   "metadata": {},
   "source": [
    "After the market is open, we first build a limit order book of depth $N$ using the current biggest bid price $p_b$ and smallest ask price $p_a$.\n",
    "The limit order on the ask side ranges from $p_a$ to $p_a + (N - 1) * ticksize$. The limit order on the bid side ranges from $p_b - (N-1) * ticksize$ to $p_b$.\n",
    "If the limit order book at price level $p_a + i * ticksize$ is already in the sequence, record its volume; if not, set the volume equal to 0. It is the same for the bid side. And We update it whenever there comes in a new order."
   ]
  },
  {
   "cell_type": "code",
   "execution_count": null,
   "metadata": {},
   "outputs": [],
   "source": [
    "def update_dict(d, price, bookChange):\n",
    "    #When a new order comes, if its price is in the sequence, we update the corresponding dictionary; if it is not, we add a new dictionary with its price and volume.\n",
    "    if price in d.keys():\n",
    "        bookChange = bookChange + d[price]\n",
    "    d.update({price: bookChange})\n",
    "    return\n",
    "\n",
    "def update_lob(row):        \n",
    "    #update limit order book\n",
    "    #If market state is 'Opening', market buy orders go to ask side and market sell orders go to bid side.\n",
    "    #If market state is 'Open',  market buy orders go to bid side and market sell orders go to ask side.\n",
    "    if row['market_state'] == 'Opening':\n",
    "        if row['reason'] == 'TRADE':\n",
    "            if row.side == 'Sell':\n",
    "                update_dict(lob_buy_dict, row['price'], row['book_change'])\n",
    "            if row.side == 'Buy':\n",
    "                update_dict(lob_sell_dict, row['price'], row['book_change'])\n",
    "    else:\n",
    "        if row.side == 'Buy':\n",
    "            update_dict(lob_buy_dict, row['price'], row['book_change'])\n",
    "        if row.side == 'Sell':\n",
    "            update_dict(lob_sell_dict, row['price'], row['book_change'])\n",
    "              \n",
    "    b = {x:y for x,y in lob_buy_dict.items() if y!=0}\n",
    "    a = {x:y for x,y in lob_sell_dict.items() if y!=0}\n",
    "    \n",
    "    return generate_lob(a,b)\n",
    "    \n",
    "def generate_lob(a,b):\n",
    "\n",
    "    r = {}\n",
    "    for i in range(N):\n",
    "        r['pa' + str(i)] =  np.round(min(a.keys())+ i*0.01,2)\n",
    "        r['pb' + str(i)] =  np.round(max(b.keys())- i*0.01,2)\n",
    "\n",
    "        if np.round((min(a.keys())+ i*0.01),2) in a.keys():\n",
    "            r['va' + str(i)] =  a[np.round(min(a.keys())+ i*0.01,2)]\n",
    "        else:\n",
    "            r['va' + str(i)] =  0\n",
    "        \n",
    "        if np.round((max(b.keys())- i*0.01),2) in b.keys():\n",
    "            r['vb' + str(i)] = b[np.round(max(b.keys())- i*0.01,2)]\n",
    "        else:\n",
    "            r['vb' + str(i)] =  0\n",
    "            \n",
    "    return np.array(list(r.values())).reshape(1,4*N)"
   ]
  },
  {
   "cell_type": "code",
   "execution_count": null,
   "metadata": {},
   "outputs": [],
   "source": [
    "#The limit order book after periodic bidding\n",
    "original_lob = generate_lob(lob_sell_dict, lob_buy_dict)\n",
    "\n",
    "#Generate the limit order book\n",
    "df_open = df.loc[start+1:]\n",
    "df_open.reset_index(inplace = True, drop = True)\n",
    "result = list(map(lambda x : update_lob(df_open.iloc[x]), range(len(df_open))))"
   ]
  },
  {
   "cell_type": "markdown",
   "metadata": {},
   "source": [
    "Concatenate the limit order book data frame with original dataframe"
   ]
  },
  {
   "cell_type": "code",
   "execution_count": null,
   "metadata": {},
   "outputs": [],
   "source": [
    "lob = pd.DataFrame(np.concatenate((original_lob,np.concatenate(result))))\n",
    "#lob = pd.DataFrame(np.concatenate(result))\n",
    "col = {}\n",
    "for i in range(N):\n",
    "    col.update({(4 * i)  : 'pa'+ str(i)})\n",
    "    col.update({(4 * i + 1)  : 'pb'+ str(i)})\n",
    "    col.update({(4 * i + 2)  : 'va'+ str(i)})\n",
    "    col.update({(4 * i + 3)  : 'vb'+ str(i)})\n",
    "\n",
    "lob.rename(columns = col, inplace = True)\n",
    "merge_lob = pd.concat([df_open, lob], axis=1).reindex(lob.index)\n",
    "merge_lob.head()"
   ]
  }
 ],
 "metadata": {
  "kernelspec": {
   "display_name": "Python 3",
   "language": "python",
   "name": "python3"
  },
  "language_info": {
   "codemirror_mode": {
    "name": "ipython",
    "version": 3
   },
   "file_extension": ".py",
   "mimetype": "text/x-python",
   "name": "python",
   "nbconvert_exporter": "python",
   "pygments_lexer": "ipython3",
   "version": "3.7.4"
  }
 },
 "nbformat": 4,
 "nbformat_minor": 4
}
