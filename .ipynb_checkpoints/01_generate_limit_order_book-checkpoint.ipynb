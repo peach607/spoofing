{
 "cells": [
  {
   "cell_type": "code",
   "execution_count": 1,
   "metadata": {},
   "outputs": [],
   "source": [
    "import pandas as pd\n",
    "import numpy as np"
   ]
  },
  {
   "cell_type": "code",
   "execution_count": 2,
   "metadata": {},
   "outputs": [
    {
     "data": {
      "text/html": [
       "<div>\n",
       "<style scoped>\n",
       "    .dataframe tbody tr th:only-of-type {\n",
       "        vertical-align: middle;\n",
       "    }\n",
       "\n",
       "    .dataframe tbody tr th {\n",
       "        vertical-align: top;\n",
       "    }\n",
       "\n",
       "    .dataframe thead th {\n",
       "        text-align: right;\n",
       "    }\n",
       "</style>\n",
       "<table border=\"1\" class=\"dataframe\">\n",
       "  <thead>\n",
       "    <tr style=\"text-align: right;\">\n",
       "      <th></th>\n",
       "      <th>time</th>\n",
       "      <th>time_nanos</th>\n",
       "      <th>symbol</th>\n",
       "      <th>venue</th>\n",
       "      <th>side</th>\n",
       "      <th>book_change</th>\n",
       "      <th>price</th>\n",
       "      <th>reason</th>\n",
       "      <th>best_bid</th>\n",
       "      <th>best_offer</th>\n",
       "      <th>best_bid_size</th>\n",
       "      <th>best_offer_size</th>\n",
       "      <th>market_state</th>\n",
       "    </tr>\n",
       "  </thead>\n",
       "  <tbody>\n",
       "    <tr>\n",
       "      <td>0</td>\n",
       "      <td>2017-04-17 03:25:02</td>\n",
       "      <td>413092027</td>\n",
       "      <td>AEM</td>\n",
       "      <td>TSE</td>\n",
       "      <td>Buy</td>\n",
       "      <td>200</td>\n",
       "      <td>29.97</td>\n",
       "      <td>BOD</td>\n",
       "      <td>29.97</td>\n",
       "      <td>999.99</td>\n",
       "      <td>200</td>\n",
       "      <td>0</td>\n",
       "      <td>NaN</td>\n",
       "    </tr>\n",
       "    <tr>\n",
       "      <td>1</td>\n",
       "      <td>2017-04-17 03:25:02</td>\n",
       "      <td>413097585</td>\n",
       "      <td>AEM</td>\n",
       "      <td>TSE</td>\n",
       "      <td>Buy</td>\n",
       "      <td>1000</td>\n",
       "      <td>53.00</td>\n",
       "      <td>BOD</td>\n",
       "      <td>53.00</td>\n",
       "      <td>999.99</td>\n",
       "      <td>1000</td>\n",
       "      <td>0</td>\n",
       "      <td>NaN</td>\n",
       "    </tr>\n",
       "    <tr>\n",
       "      <td>2</td>\n",
       "      <td>2017-04-17 03:25:02</td>\n",
       "      <td>413107773</td>\n",
       "      <td>AEM</td>\n",
       "      <td>TSE</td>\n",
       "      <td>Buy</td>\n",
       "      <td>100</td>\n",
       "      <td>52.00</td>\n",
       "      <td>BOD</td>\n",
       "      <td>53.00</td>\n",
       "      <td>999.99</td>\n",
       "      <td>1000</td>\n",
       "      <td>0</td>\n",
       "      <td>NaN</td>\n",
       "    </tr>\n",
       "    <tr>\n",
       "      <td>3</td>\n",
       "      <td>2017-04-17 03:25:02</td>\n",
       "      <td>413112997</td>\n",
       "      <td>AEM</td>\n",
       "      <td>TSE</td>\n",
       "      <td>Buy</td>\n",
       "      <td>100</td>\n",
       "      <td>55.95</td>\n",
       "      <td>BOD</td>\n",
       "      <td>55.95</td>\n",
       "      <td>999.99</td>\n",
       "      <td>100</td>\n",
       "      <td>0</td>\n",
       "      <td>NaN</td>\n",
       "    </tr>\n",
       "    <tr>\n",
       "      <td>4</td>\n",
       "      <td>2017-04-17 03:25:02</td>\n",
       "      <td>413123448</td>\n",
       "      <td>AEM</td>\n",
       "      <td>TSE</td>\n",
       "      <td>Buy</td>\n",
       "      <td>100</td>\n",
       "      <td>55.80</td>\n",
       "      <td>BOD</td>\n",
       "      <td>55.95</td>\n",
       "      <td>999.99</td>\n",
       "      <td>100</td>\n",
       "      <td>0</td>\n",
       "      <td>NaN</td>\n",
       "    </tr>\n",
       "  </tbody>\n",
       "</table>\n",
       "</div>"
      ],
      "text/plain": [
       "                  time  time_nanos symbol venue side  book_change  price  \\\n",
       "0  2017-04-17 03:25:02   413092027    AEM   TSE  Buy          200  29.97   \n",
       "1  2017-04-17 03:25:02   413097585    AEM   TSE  Buy         1000  53.00   \n",
       "2  2017-04-17 03:25:02   413107773    AEM   TSE  Buy          100  52.00   \n",
       "3  2017-04-17 03:25:02   413112997    AEM   TSE  Buy          100  55.95   \n",
       "4  2017-04-17 03:25:02   413123448    AEM   TSE  Buy          100  55.80   \n",
       "\n",
       "  reason  best_bid  best_offer  best_bid_size  best_offer_size market_state  \n",
       "0    BOD     29.97      999.99            200                0          NaN  \n",
       "1    BOD     53.00      999.99           1000                0          NaN  \n",
       "2    BOD     53.00      999.99           1000                0          NaN  \n",
       "3    BOD     55.95      999.99            100                0          NaN  \n",
       "4    BOD     55.95      999.99            100                0          NaN  "
      ]
     },
     "execution_count": 2,
     "metadata": {},
     "output_type": "execute_result"
    }
   ],
   "source": [
    "# read the original data\n",
    "df = pd.read_csv('./data/20170417AEM_original.csv')\n",
    "df.head()"
   ]
  },
  {
   "cell_type": "markdown",
   "metadata": {},
   "source": [
    "When the market state is\n",
    "* \"nan\" : The market is closed and just receive orders. \n",
    "* \"Pre-open\" : From 7am to 9:30am. Orders may be entered, but will not be executed. The COP is displayed and continuously updated.\n",
    "* \"Opening\" :  Market on Open (MOO) at 9:30am. All matching orders are executed at a single opening trade price with any remaining orders carrying through to the continuous limit order book.\n",
    "* \"Open\" : Continuous Trading from 9:30 to 4pm - All regular order types are accepted.\n",
    "* 'MOC Imbalance' : MOC Imbalance market from 3:40pm to 4pm.\n",
    "* 'CCP Determination' : Calculated Closing Price (“CCP”) Determination at 4pm.\n",
    "* 'Extended Hours CXLs' : Post Market Cancel Session from 4:10pm to 4:15pm- During this session, open orders may be cancelled by the dealer.\n",
    "* 'Extended Hours Open' : Extended Trading Session from 4:15pm to 5pm - Orders at the last sale price are accepted.\n",
    "\n",
    "See https://www.tsx.com/trading/calendars-and-trading-hours/trading-hours"
   ]
  },
  {
   "cell_type": "code",
   "execution_count": 4,
   "metadata": {},
   "outputs": [
    {
     "data": {
      "text/plain": [
       "array([nan, 'Pre-open', 'Opening', 'Open', 'MOC Imbalance',\n",
       "       'CCP Determination', 'Extended Hours CXLs', 'Extended Hours Open'],\n",
       "      dtype=object)"
      ]
     },
     "execution_count": 4,
     "metadata": {},
     "output_type": "execute_result"
    }
   ],
   "source": [
    "df['market_state'].unique()"
   ]
  },
  {
   "cell_type": "markdown",
   "metadata": {},
   "source": [
    "Order types :\n",
    "* \"BOD\" : Orders sent when the market is closed.\n",
    "* \"Booked\" : Booked limit orders.\n",
    "* \"CANCELLED\" : Cancelled limit orders.\n",
    "* \"TRADE\" : Market orders.\n",
    "* \"Undisclosed\" : Compensator of an unfilled market order.\n",
    "* \"PRICE_CHANGE:COP\" : \n",
    "* \"PRICE_CHANGE:AssignLimit\" : \n",
    "\n",
    "See https://www.tsx.com/resource/en/133"
   ]
  },
  {
   "cell_type": "code",
   "execution_count": 28,
   "metadata": {},
   "outputs": [
    {
     "data": {
      "text/plain": [
       "array(['BOD', 'Booked', 'CANCELLED', 'PRICE_CHANGE:COP',\n",
       "       'PRICE_CHANGE:AssignLimit', 'TRADE', 'Undisclosed'], dtype=object)"
      ]
     },
     "execution_count": 28,
     "metadata": {},
     "output_type": "execute_result"
    }
   ],
   "source": [
    "df['reason'].unique()"
   ]
  },
  {
   "cell_type": "markdown",
   "metadata": {},
   "source": [
    "When the market is Pre-open, we groupby orders by its price and generate a sequence of all the bids and offers."
   ]
  },
  {
   "cell_type": "code",
   "execution_count": null,
   "metadata": {},
   "outputs": [],
   "source": [
    "def nonrecursive_order_book(position):\n",
    "    slice_df = df.loc[:position]\n",
    "\n",
    "    lob_buy = slice_df[slice_df.side == 'Buy'][['price', 'book_change']]\n",
    "    lob_buy = lob_buy.groupby('price').sum()\n",
    "    lob_buy = lob_buy[lob_buy['book_change'] > 0]\n",
    "\n",
    "    lob_sell = slice_df[slice_df.side == 'Sell'][['price', 'book_change']]\n",
    "    lob_sell = lob_sell.groupby('price').sum()\n",
    "    lob_sell = lob_sell[lob_sell['book_change'] > 0]\n",
    "\n",
    "    return lob_buy, lob_sell\n",
    "\n",
    "#set depth of the limit order book\n",
    "N = 5\n",
    "#slice the pre-open data\n",
    "start = df[df['market_state'] == 'Pre-open'].index[-1]+1\n",
    "lob_buy, lob_sell = nonrecursive_order_book(start)\n",
    "\n",
    "#convert the price and volume sequence into dictionary\n",
    "lob_sell_dict = {}\n",
    "for price in lob_sell.index.values:\n",
    "    lob_sell_dict[price] = lob_sell.loc[price]['book_change']\n",
    "lob_buy_dict = {}\n",
    "for price in lob_buy.index.values:\n",
    "    lob_buy_dict[price] = lob_buy.loc[price]['book_change']"
   ]
  },
  {
   "cell_type": "markdown",
   "metadata": {},
   "source": [
    "After the market is open, we first build a limit order book of depth $N$ using the current biggest bid price $p_b$ and smallest ask price $p_a$.\n",
    "The limit order on the ask side ranges from $p_a$ to $p_a + (N - 1) * ticksize$. The limit order on the bid side ranges from $p_b - (N-1) * ticksize$ to $p_b$.\n",
    "If the limit order book at price level $p_a + i * ticksize$ is already in the sequence, record its volume; if not, set the volume equal to 0. It is the same for the bid side. And We update it whenever there comes in a new order."
   ]
  },
  {
   "cell_type": "code",
   "execution_count": null,
   "metadata": {},
   "outputs": [],
   "source": [
    "def update_dict(d, price, bookChange):\n",
    "    #When a new order comes, if its price is in the sequence, we update the corresponding dictionary; if it is not, we add a new dictionary with its price and volume.\n",
    "    if price in d.keys():\n",
    "        bookChange = bookChange + d[price]\n",
    "    d.update({price: bookChange})\n",
    "    return\n",
    "\n",
    "def generate_lob(row):        \n",
    "    #update the price sequence\n",
    "    if row.side == 'Buy':\n",
    "        update_dict(lob_buy_dict, row['price'], row['book_change'])\n",
    "    if row.side == 'Sell':\n",
    "        update_dict(lob_sell_dict, row['price'], row['book_change'])\n",
    "    \n",
    "    #If the volume at one price level is 0, we drop it from the price sequence.\n",
    "    b = {x:y for x,y in lob_buy_dict.items() if y!=0} \n",
    "    a = {x:y for x,y in lob_sell_dict.items() if y!=0}\n",
    "\n",
    "    r = {}\n",
    "    for i in range(N):\n",
    "        #The best ask price is the smallest sell price p_a in the sequence. The limit order on the ask side ranges from p_a to p_a + (N - 1) * ticksize.\n",
    "        r['pa' + str(i)] =  np.round(min(a.keys())+ i*0.01,2)\n",
    "        #The best bid price is the biggest buy price in the sequence. The limit order on the bid side ranges from p_b - (N-1) * ticksize to p_b.\n",
    "        r['pb' + str(i)] =  np.round(max(b.keys())- i*0.01,2)\n",
    "        \n",
    "        #If the limit order book at price level (p_a + i * ticksize) is already in the sequence, read its volume; if not, set the volume equal to 0.\n",
    "        if np.round((min(a.keys())+ i*0.01),2) in a.keys():\n",
    "            r['va' + str(i)] =  a[np.round(min(a.keys())+ i*0.01,2)]\n",
    "        else:\n",
    "            r['va' + str(i)] =  0   \n",
    "        #If the limit order book at price level (p_b - i * ticksize) is already in the sequence, read its volume; if not, set the volume equal to 0.\n",
    "        if np.round((max(b.keys())- i*0.01),2) in b.keys():\n",
    "            r['vb' + str(i)] = b[np.round(max(b.keys())- i*0.01,2)]\n",
    "        else:\n",
    "            r['vb' + str(i)] =  0\n",
    "            \n",
    "    #Return the limit order book\n",
    "    return np.array(list(r.values())).reshape(1,4*N)"
   ]
  },
  {
   "cell_type": "code",
   "execution_count": null,
   "metadata": {},
   "outputs": [],
   "source": [
    "#Generate the limit order book\n",
    "df_open = df.loc[start+1:]\n",
    "df_open.reset_index(inplace = True, drop = True)\n",
    "result = df_open.apply(generate_lob, axis = 1)"
   ]
  },
  {
   "cell_type": "markdown",
   "metadata": {},
   "source": [
    "Concatenate the limit order book data frame with original dataframe"
   ]
  },
  {
   "cell_type": "code",
   "execution_count": null,
   "metadata": {},
   "outputs": [],
   "source": [
    "lob = pd.DataFrame(np.concatenate(result.values.tolist()))\n",
    "col = {}\n",
    "for i in range(N):\n",
    "    col.update({(4 * i)      : 'pa'+ str(i)})\n",
    "    col.update({(4 * i + 1)  : 'pb'+ str(i)})\n",
    "    col.update({(4 * i + 2)  : 'va'+ str(i)})\n",
    "    col.update({(4 * i + 3)  : 'vb'+ str(i)})\n",
    "lob.rename(columns = col, inplace = True)\n",
    "merge_lob = pd.concat([df_open, lob], axis=1).reindex(lob.index)\n",
    "merge_lob.head()"
   ]
  }
 ],
 "metadata": {
  "kernelspec": {
   "display_name": "Python 3",
   "language": "python",
   "name": "python3"
  },
  "language_info": {
   "codemirror_mode": {
    "name": "ipython",
    "version": 3
   },
   "file_extension": ".py",
   "mimetype": "text/x-python",
   "name": "python",
   "nbconvert_exporter": "python",
   "pygments_lexer": "ipython3",
   "version": "3.7.4"
  }
 },
 "nbformat": 4,
 "nbformat_minor": 4
}
