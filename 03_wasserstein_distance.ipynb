{
 "cells": [
  {
   "cell_type": "code",
   "execution_count": null,
   "metadata": {},
   "outputs": [],
   "source": [
    "import pandas as pd\n",
    "import numpy as np\n",
    "from scipy.stats import binom, norm, skewnorm, multivariate_normal, skew\n",
    "from scipy.optimize import minimize, root, Bounds\n",
    "from random import sample, choices\n",
    "from datetime import datetime\n",
    "from bisect import bisect_left\n",
    "import ot\n",
    "import plotly.graph_objs as go\n",
    "from plotly.offline import iplot"
   ]
  },
  {
   "cell_type": "code",
   "execution_count": null,
   "metadata": {},
   "outputs": [],
   "source": [
    "def takeClosest(myList, myNumber):\n",
    "    \"\"\"\n",
    "    Assumes myList is sorted. Returns closest value to myNumber.\n",
    "\n",
    "    If two numbers are equally close, return the smallest number.\n",
    "    \"\"\"  \n",
    "    pos = bisect_left(myList, myNumber)\n",
    "    if pos == 0:\n",
    "        return pos\n",
    "    if pos == len(myList):\n",
    "        return -1\n",
    "    before = myList[pos - 1]\n",
    "    after = myList[pos]\n",
    "    if after - myNumber < myNumber - before:\n",
    "        return pos\n",
    "    else:\n",
    "        return pos-1\n",
    "\n",
    "def sum_limit_order_book(x, pointer1, pointer2, lmo_volume):\n",
    "    left = pointer1[x]\n",
    "    right = pointer2[x]\n",
    "    if left >= right:\n",
    "        return np.zeros(N)\n",
    "    lmo_sum = np.sum(lmo_volume[left:right,:] , axis = 0)  \n",
    "    return lmo_sum.tolist()\n",
    "\n",
    "def imbalance_generate(x, weight, N, ask_sum, bid_sum):\n",
    "    weight = np.array(weight)\n",
    "    if np.sum(ask_sum[x]) == None:\n",
    "        return\n",
    "    B = np.sum(weight * ask_sum[x] + weight * bid_sum[x])\n",
    "    A =  np.sum(weight * (bid_sum[x]))\n",
    "    if B == 0:\n",
    "        return\n",
    "    return A / B"
   ]
  },
  {
   "cell_type": "code",
   "execution_count": null,
   "metadata": {},
   "outputs": [],
   "source": [
    "# import the data\n",
    "lob = pd.read_csv('./data/20170417_AEM_limit_order_book.csv')\n",
    "lob.head()"
   ]
  },
  {
   "cell_type": "code",
   "execution_count": null,
   "metadata": {},
   "outputs": [],
   "source": [
    "#Prepare temp column for resampling\n",
    "lob['temp'] = pd.to_datetime(lob['time']).dt.tz_localize('UTC')\n",
    "lob['temp_nanos'] = pd.to_timedelta(lob['time_nanos'], unit='ns')\n",
    "lob['temp'] = lob['temp'] + lob['temp_nanos']\n",
    "lob['time'] = pd.to_datetime(lob['time']).apply(lambda x: (x - datetime(1970,1,1)).total_seconds())\n",
    "lob['time'] = lob['time'] + 1e-9  * lob['time_nanos']\n",
    "lob.sort_values('time', inplace=True)"
   ]
  },
  {
   "cell_type": "code",
   "execution_count": null,
   "metadata": {},
   "outputs": [],
   "source": [
    "#transform unit of price into ticks\n",
    "name_ask = ['pa' + str(i) for i in range(10)]\n",
    "name_bid = ['pb' + str(i) for i in range(10)]\n",
    "lob[name_ask] = 100 * lob[name_ask]\n",
    "lob[name_bid] = 100 * lob[name_bid]"
   ]
  },
  {
   "cell_type": "code",
   "execution_count": null,
   "metadata": {},
   "outputs": [],
   "source": [
    "#Give the parameters\n",
    "weight = np.array([3.55216664e-01, 1.23132520e-01, 3.67009391e-01, 1.54641425e-01,])\n",
    "N = 4\n",
    "nums = 28\n",
    "dp_plus = np.array([2.34523512e-12, 1.45316185e-01, 3.52416071e-03, 2.51397975e-01,\n",
    "        2.07630352e-01, 1.14650602e-01, 2.22077440e-01, 1.99809229e-05,\n",
    "        5.53833050e-02])\n",
    "mu = np.sum(dp_plus * np.arange(-N , N + 1))\n",
    "q = np.array([8.69112914e-01, 5.67308008e-02, 6.61292998e-03, 1.33009922e-03,4.68992061e-04])"
   ]
  },
  {
   "cell_type": "code",
   "execution_count": null,
   "metadata": {},
   "outputs": [],
   "source": [
    "#Compute time delta between two orders\n",
    "time_ls = list(lob['time'].values)\n",
    "delta_s = np.diff(time_ls).tolist()\n",
    "delta_s.insert(0 ,0)\n",
    "lob['time_diff'] = delta_s \n",
    "\n",
    "#weigh the book volume by time delta\n",
    "for i in range(1, N+1):\n",
    "    name_a = 'va' + str(i) \n",
    "    name_b = 'vb' + str(i) \n",
    "    name_aa = 'va-' + str(i) \n",
    "    name_bb = 'vb-' + str(i)\n",
    "    lob[name_aa] = lob[name_a] * lob['time_diff']\n",
    "    lob[name_bb] = lob[name_b] * lob['time_diff']\n",
    "name_ask = ['va-' + str(i) for i in range(1, N+1)]\n",
    "name_bid = ['vb-' + str(i) for i in range(1, N+1)]\n",
    "volume_ask = np.array(lob[name_ask])\n",
    "volume_bid = np.array(lob[name_bid])"
   ]
  },
  {
   "cell_type": "markdown",
   "metadata": {},
   "source": [
    "Compute$\\sum\\limits_{t -f\\leq s< t} H_s $ where $H_s$ is the market order volume at time $s$."
   ]
  },
  {
   "cell_type": "code",
   "execution_count": null,
   "metadata": {},
   "outputs": [],
   "source": [
    "m = lob.loc[(lob['reason'] == 'TRADE') & (lob['side'] == 'Buy') & (lob['market_state'] == 'Opening') | (lob['reason'] == 'TRADE') & (lob['side'] == 'Sell') & (lob['market_state'] == 'Open') ]\n",
    "sm = - m[['book_change','temp']].resample(str(nums)+'S', on = 'temp').sum().between_time('09:30', '16:00')\n",
    "H = sm['book_change'].values\n",
    "sm.reset_index(drop = False, inplace = True)\n",
    "T = sm.temp.values\n",
    "s = np.array(list(map(lambda x: (x - datetime(1970,1,1)).total_seconds(), pd.to_datetime(T, unit = 's') )))"
   ]
  },
  {
   "cell_type": "markdown",
   "metadata": {},
   "source": [
    "Compute $\\hat{\\imath}_-(t)$ and $\\hat{\\imath}_+(t)$, the imbalance before and after a market order, as follows:\n",
    "\\begin{align*}\n",
    "    \\hat{\\imath}_-(t) &= \\frac{\\sum\\limits_{k\\leq N} \\sum\\limits_{t - f  \\leq s<t} w_k \\bar{v}^-_k(s)}{\\sum\\limits_{k\\leq N} \\sum\\limits_{t - f  \\leq s<t}  w_k \\left(\\bar{v}^-_k(s) + \\bar{v}_k(s) \\right)}\\\\\n",
    "    \\hat{\\imath}_+(t) &= \\frac{ \\sum\\limits_{k\\leq N} \\sum\\limits_{t  \\leq s<t+1} w_k \\bar{v}^-_k(s)}{\\sum\\limits_{k\\leq N} \\sum\\limits_{t\\leq s<t+1}  w_k \\left(\\bar{v}^-_k(s) + \\bar{v}_k(s) \\right)} \n",
    "\\end{align*}\n"
   ]
  },
  {
   "cell_type": "code",
   "execution_count": null,
   "metadata": {},
   "outputs": [],
   "source": [
    "s1 = np.array(s) - nums\n",
    "s2 = np.array(s) \n",
    "s3 = np.array(s) + 1\n",
    "time_ls = lob.time.values\n",
    "# find index in lob according to s\n",
    "pointer1 = [takeClosest(time_ls, i) for i in s1]\n",
    "pointer2 = [takeClosest(time_ls, i) for i in s2]\n",
    "pointer3 = [takeClosest(time_ls, i) for i in s3]\n",
    "ask_before = list(map(lambda x: sum_limit_order_book(x, pointer1, pointer2, volume_ask), range(len(pointer1))))\n",
    "bid_before = list(map(lambda x: sum_limit_order_book(x, pointer1, pointer2, volume_bid), range(len(pointer1))))\n",
    "ask_after = list(map(lambda x: sum_limit_order_book(x, pointer2, pointer3, volume_ask), range(len(pointer1))))\n",
    "bid_after = list(map(lambda x: sum_limit_order_book(x, pointer2, pointer3, volume_bid), range(len(pointer1))))\n",
    "imb_before = np.array(list(map(lambda x: imbalance_generate(x, weight, N, ask_before, bid_before), range(len(s)))))\n",
    "imb_after = np.array(list(map(lambda x: imbalance_generate(x, weight, N, ask_after, bid_after), range(len(s)))))"
   ]
  },
  {
   "cell_type": "markdown",
   "metadata": {},
   "source": [
    "$a_t$ is the average size of the limit order book $f$ seconds before a market order\n",
    "\\begin{align*}\n",
    "    a_t &= \\frac{\\sum\\limits_{k = 1}^N \\sum\\limits_{t -f\\leq s< t} \\bar{v}_k(s) \\Delta s}{Nf} \\\\\n",
    "    \\rho_t &= \\frac{\\sum\\limits_{k = 1}^N \\sum\\limits_{t -f\\leq s< t} H_s }{a_t}\n",
    "\\end{align*} \n",
    "where $H_s$ is the market order volume at time $s$."
   ]
  },
  {
   "cell_type": "code",
   "execution_count": null,
   "metadata": {},
   "outputs": [],
   "source": [
    "A = np.array(list(map(lambda x: np.sum(ask_before[x]), range(len(ask_before))))) \n",
    "R = N * H / A\n",
    "idd = np.where(~np.isnan(R))\n",
    "R = R[idd]\n",
    "l1 = imb_before[idd]\n",
    "l2 = imb_after[idd]\n",
    "s = s[idd]\n",
    "idd = np.where( (R>0) )[0]\n",
    "R = R[idd]\n",
    "l1 = l1[idd]\n",
    "l2 = l2[idd]\n",
    "s = s[idd]\n",
    "idd = np.where(l2!= np.array(None))\n",
    "R = R[idd]\n",
    "l1 = l1[idd]\n",
    "l2 = l2[idd]\n",
    "s = s[idd]"
   ]
  },
  {
   "cell_type": "markdown",
   "metadata": {},
   "source": [
    "For each $\\hat{\\imath}_-(t)$, the optimal spoofing strategy $v_{spoof}$ can be solved explicitly from\n",
    "\\begin{equation*}\n",
    "    v_{spoof,k} = 1+\\frac{ \\left(1-\\hat{\\imath}_-(t) \\right) w_k}{Q}\\left[2\\rho_t w_k \\mu^+ \\frac{1-\\hat{\\imath}_-(t)}{\\hat{\\imath}_-(t)} \\imath^2 - \\left( Q_k \\rho_t +\\nu \\right)\\right]^+ \n",
    "\\end{equation*}\n",
    "where $\\imath = \\frac{b_t}{b_t + a_t + w_k v_{spoof,k}}$"
   ]
  },
  {
   "cell_type": "code",
   "execution_count": null,
   "metadata": {},
   "outputs": [],
   "source": [
    "def imath_star(imath,imbalance,rho,q,w,mu):\n",
    "    Q = np.array([np.sum(q[i+1:]) for i in range(N)])\n",
    "    Q_bar = np.array([np.sum(np.arange(i,N,1) * q[i+1:]) for i in range(N)])\n",
    "    v = np.zeros(N)\n",
    "    for place in range(N):\n",
    "        v[place] = np.maximum(2 * rho * mu * weight[place] * imath ** 2 *(1-imbalance)/imbalance - (Q[place] * (rho  - place) + Q_bar[place]) ,0)  / (Q[place])\n",
    "    return np.abs(imath - (imbalance)/( 1 + (1-imbalance) * np.sum(weight*v) ))\n",
    "\n",
    "imath = []\n",
    "v = np.zeros(N)\n",
    "for index in range(len(l1)):\n",
    "    imbalance = l1[index]\n",
    "    rho = R[index]\n",
    "    if rho == 0:\n",
    "        i = imbalance\n",
    "    else:\n",
    "        i = minimize(imath_star, [imbalance], bounds = Bounds(0,imbalance), args = (imbalance, rho, q, weight, mu)).x[0]\n",
    "    imath.append(i)"
   ]
  },
  {
   "cell_type": "code",
   "execution_count": null,
   "metadata": {},
   "outputs": [],
   "source": [
    "#Parameters for bivariate skewnormal distribution\n",
    "def skew_condition(y1, y2, beta, omega, Omega, alpha_0, alpha):\n",
    "    xi = beta[1] + omega[0,1] * (y1 - beta[0])/ omega[0,0]\n",
    "    x0 = (y1 - beta[0]) * alpha_0 / np.sqrt(omega[0,0])\n",
    "    x0_prime = x0 * np.sqrt(1 + alpha[1] * Omega * alpha[1] / omega[1,1])\n",
    "    return multivariate_normal.pdf(x = y2 - xi, mean = 0, cov = Omega) * norm.cdf(alpha[1] * (y2 - xi)/ np.sqrt(omega[1,1]) + x0_prime ) / norm.cdf(x0)\n",
    "\n",
    "#Compute the wasserstein distance following by the step in the paper appendix\n",
    "def wasserstein_distance(x, number, Q, l1, l2,l3):\n",
    "    #Truncate the data in the window\n",
    "    left = pointer1[x]\n",
    "    right = pointer2[x]\n",
    "    ll1 = l1[left:right + 1]\n",
    "    ll2 = l2[left:right + 1]\n",
    "    ll3 = l3[left:right + 1]\n",
    "    q = np.quantile(ll2,Q)\n",
    "    sum1 = 0\n",
    "    sum2 = 0\n",
    "    #Discretize the support of i_spoof_- for sampling\n",
    "    X = np.linspace(0, 1, 100)\n",
    "    for i in range(len(Q) - 2):\n",
    "        idd = np.where((ll2 >= q[i]) & (ll2 < q[i+1]))\n",
    "        a = ll1[idd]\n",
    "        b = ll2[idd]\n",
    "        c = ll3[idd]\n",
    "        if len(b) > 0:\n",
    "            #Sample number times from the marginal distribution and compute the average wasserstein diatance\n",
    "            sample1 = np.array(list(map(lambda x : norm.rvs(loc = mean1 + sigma1 / sigma2 * cor * (x - mean2), scale = np.sqrt((1- cor ** 2)) * sigma1, size = number), b)))\n",
    "            ssum1 = sum(np.array(list(map(lambda x : ot.wasserstein_1d(a, sample1[:,x], p = 2), range(number))))) / number\n",
    "            Y = np.array([skew_condition(b, x, beta, omega, Omega, alpha_0, alpha).tolist() for x in X])\n",
    "            sample2 = np.array(list(map(lambda x : choices(X, Y[:,x] / np.sum(Y[:,x]), k = number), range(len(b)))))\n",
    "            ssum2 = sum(np.array(list(map(lambda x : ot.wasserstein_1d(a, sample2[:,x], p = 2), range(number))))) / number\n",
    "            sum1 =  sum1 + ssum1   \n",
    "            sum2 =  sum2 + ssum2 \n",
    "    #Include the end point in the last group\n",
    "    i = len(Q) - 2\n",
    "    idd = np.where((ll2 >= q[i]) & (ll2 <= q[i+1]))\n",
    "    a = ll1[idd]\n",
    "    b = ll2[idd]\n",
    "    c = ll3[idd]\n",
    "    if len(b) > 0:\n",
    "        sample1 = np.array(list(map(lambda x : norm.rvs(loc = mean1 + sigma1 / sigma2 * cor * (x - mean2), scale = np.sqrt((1 - cor ** 2)) * sigma1, size = number) , b)))\n",
    "        ssum1 = sum(np.array(list(map(lambda x : ot.wasserstein_1d(a, sample1[:,x], p = 2), range(number))))) / number\n",
    "        Y = np.array([skew_condition(b, x, beta, omega, Omega, alpha_0, alpha).tolist() for x in X])\n",
    "        sample2 = np.array(list(map(lambda x : choices(X, Y[:,x] / np.sum(Y[:,x]), k = number), range(len(b)))))\n",
    "        ssum2 = sum(np.array(list(map(lambda x : ot.wasserstein_1d(a, sample2[:,x], p = 2), range(number))))) / number\n",
    "        sum1 = sum1 + ssum1     \n",
    "        sum2 = sum2 + ssum2 \n",
    "    return [sum1 / len(Q), sum2 / len(Q)]"
   ]
  },
  {
   "cell_type": "code",
   "execution_count": null,
   "metadata": {},
   "outputs": [],
   "source": [
    "l3 = np.array(imath)\n",
    "idd = np.where((l3<=1)&(l3>=0))\n",
    "l1 = l1[idd]\n",
    "l2 = l2[idd]\n",
    "l3 = l3[idd]\n",
    "s = s[idd]\n",
    "R = R[idd]\n",
    "idd = np.where((l2<=1)&(l2>=0))\n",
    "l1 = l1[idd]\n",
    "l2 = l2[idd]\n",
    "l3 = l3[idd]\n",
    "s = s[idd]\n",
    "R = R[idd]"
   ]
  },
  {
   "cell_type": "code",
   "execution_count": null,
   "metadata": {},
   "outputs": [],
   "source": [
    "#Save the imbalance to use R to fit the skewnormal distribution\n",
    "bi_imb = np.append(l3.reshape(len(l3),1),l2.reshape(len(l3),1),axis = 1)\n",
    "np.savetxt('./data/i_spoof_i_+.txt', bi_imb)"
   ]
  },
  {
   "cell_type": "code",
   "execution_count": null,
   "metadata": {},
   "outputs": [],
   "source": [
    "#Generate the window index\n",
    "window_size = 100\n",
    "pointer2 = np.arange(window_size, len(l1))\n",
    "pointer1 = pointer2 - window_size"
   ]
  },
  {
   "cell_type": "code",
   "execution_count": null,
   "metadata": {},
   "outputs": [],
   "source": [
    "#The bivarite skewnrom distribution is fitted in R and here is the parameters.\n",
    "beta  = np.array([0.5329954, 0.476884])\n",
    "alpha = np.array([-1.196460, 1.295003 ])\n",
    "omega = np.array([[0.007050057, 0.003401895], [0.003401895, 0.013884434]]) \n",
    "Omega = omega[1,1] - omega[0,1] ** 2 / omega[0,0]\n",
    "alpha_0 = (alpha[0] + alpha[1] *np.sqrt(omega[1,1]) / np.sqrt(omega[0,0])) \n",
    "alpha_0 =alpha_0 / np.sqrt(1 + alpha[1] * Omega * alpha[1] / omega[1,1]) \n",
    "mean1 = np.mean(l1)\n",
    "mean2 = np.mean(l2)\n",
    "sigma1 = np.std(l1)\n",
    "sigma2 = np.std(l2)\n",
    "cor = np.corrcoef(l1,l2)[0,1] "
   ]
  },
  {
   "cell_type": "code",
   "execution_count": null,
   "metadata": {},
   "outputs": [],
   "source": [
    "#Divide the imbalance by quantiles\n",
    "Q = np.array([0, 0.2, 0.4, 0.6, 0.8, 1])\n",
    "#Number of sampling times in each window\n",
    "number = 3\n",
    "wd = np.array(list(map(lambda x: wasserstein_distance(x, number, Q, l1, l2, l3), range(len(pointer1)))))"
   ]
  },
  {
   "cell_type": "code",
   "execution_count": null,
   "metadata": {},
   "outputs": [],
   "source": [
    "fig = go.Figure()\n",
    "fig.add_scatter(x = np.arange(len(wd[:,0])), y= wd[:,0],)\n",
    "fig.add_scatter(x = np.arange(len(wd[:,0])), y= wd[:,1],)\n",
    "iplot(fig)"
   ]
  }
 ],
 "metadata": {
  "kernelspec": {
   "display_name": "Python 3",
   "language": "python",
   "name": "python3"
  },
  "language_info": {
   "codemirror_mode": {
    "name": "ipython",
    "version": 3
   },
   "file_extension": ".py",
   "mimetype": "text/x-python",
   "name": "python",
   "nbconvert_exporter": "python",
   "pygments_lexer": "ipython3",
   "version": "3.7.11"
  }
 },
 "nbformat": 4,
 "nbformat_minor": 4
}
