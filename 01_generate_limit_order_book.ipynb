{
 "cells": [
  {
   "cell_type": "markdown",
   "metadata": {},
   "source": [
    "# Construction of the Limit Order Book from Tick Data\n",
    "\n",
    "## Load and format data"
   ]
  },
  {
   "cell_type": "code",
   "execution_count": null,
   "metadata": {},
   "outputs": [],
   "source": [
    "import pandas as pd\n",
    "import numpy as np\n",
    "import plotly.graph_objs as go"
   ]
  },
  {
   "cell_type": "code",
   "execution_count": null,
   "metadata": {},
   "outputs": [],
   "source": [
    "#Read the original data\n",
    "#Unzip the datafile before loading\n",
    "df = pd.read_csv('./data/20170417_AEM_original.csv')\n",
    "df.head()"
   ]
  },
  {
   "cell_type": "code",
   "execution_count": null,
   "metadata": {},
   "outputs": [],
   "source": [
    "#Concatenate time and nanoseconds\n",
    "df['time'] = pd.to_datetime(df['time']) + pd.to_timedelta(df['time_nanos'], unit = 'ns')\n",
    "df.drop(columns = 'time_nanos', inplace = True)\n",
    "df.head()"
   ]
  },
  {
   "cell_type": "markdown",
   "metadata": {},
   "source": [
    "When the market state is\n",
    "* \"nan\" : The market is closed and just receive orders. \n",
    "* \"Pre-open\" : From 7am to 9:30am. Orders may be entered, but will not be executed. The COP is displayed and continuously updated.\n",
    "* \"Opening\" :  Market on Open (MOO) at 9:30am. All matching orders are executed at a single opening trade price with any remaining orders carrying through to the continuous limit order book.\n",
    "* \"Open\" : Continuous Trading from 9:30 to 4pm - All regular order types are accepted.\n",
    "* 'MOC Imbalance' : MOC Imbalance market from 3:40pm to 4pm.\n",
    "* 'CCP Determination' : Calculated Closing Price (“CCP”) Determination at 4pm.\n",
    "* 'Extended Hours CXLs' : Post Market Cancel Session from 4:10pm to 4:15pm- During this session, open orders may be cancelled by the dealer.\n",
    "* 'Extended Hours Open' : Extended Trading Session from 4:15pm to 5pm - Orders at the last sale price are accepted.\n",
    "\n",
    "See https://www.tsx.com/trading/calendars-and-trading-hours/trading-hours"
   ]
  },
  {
   "cell_type": "code",
   "execution_count": null,
   "metadata": {},
   "outputs": [],
   "source": [
    "df['market_state'].unique()"
   ]
  },
  {
   "cell_type": "markdown",
   "metadata": {},
   "source": [
    "Order types :\n",
    "* \"BOD\" : Orders sent when the market is closed.\n",
    "* \"Booked\" : Booked limit orders.\n",
    "* \"CANCELLED\" : Cancelled limit orders.\n",
    "* \"TRADE\" : Market orders.\n",
    "* \"Undisclosed\" : Compensator of an unfilled market order.\n",
    "* \"PRICE_CHANGE:COP\", \"PRICE_CHANGE:AssignLimit\" : Orders during preopen when calculting the opening price.\n",
    "\n",
    "See https://www.tsx.com/resource/en/133"
   ]
  },
  {
   "cell_type": "code",
   "execution_count": null,
   "metadata": {},
   "outputs": [],
   "source": [
    "df['reason'].unique()"
   ]
  },
  {
   "cell_type": "markdown",
   "metadata": {},
   "source": [
    "## Construction of the limit order book\n",
    "\n",
    "The tick data are in diff form, hence to get a limit order book at a given point, one needs to groupby price (on bid and ask) and take the cumulative sum of book changes.\n",
    "\n",
    "We build the first limit order book as the market opens (9:30).\n",
    "Then for each time, we incrementally update the limit order book for any volume entering within a depth of $\\pm N$ ticks from the bid/ask price. "
   ]
  },
  {
   "cell_type": "code",
   "execution_count": null,
   "metadata": {},
   "outputs": [],
   "source": [
    "#Functions to generate the limit order book at any given instant.\n",
    "\n",
    "def nonrecursive_order_book(position, df):\n",
    "    slice_df = df.loc[:position]\n",
    "    lob_buy = slice_df[slice_df.side == 'Buy'][['price', 'book_change']]\n",
    "    lob_buy = lob_buy.groupby('price').sum()\n",
    "    lob_buy = lob_buy[lob_buy['book_change'] > 0]\n",
    "    lob_sell = slice_df[slice_df.side == 'Sell'][['price', 'book_change']]\n",
    "    lob_sell = lob_sell.groupby('price').sum()\n",
    "    lob_sell = lob_sell[lob_sell['book_change'] > 0]\n",
    "    return lob_buy, lob_sell\n",
    "\n",
    "def update_dict(d, price, bookChange):\n",
    "    if price in d.keys():\n",
    "        bookChange = bookChange + d[price]\n",
    "    d.update({price: bookChange})\n",
    "    return\n",
    "\n",
    "def update_lob(row):        \n",
    "    #update limit order book\n",
    "    #If market state is 'Opening', market buy orders go to ask side and market sell orders go to bid side\n",
    "    #If market state is 'Open',  market buy orders go to bid side and market sell orders go to ask side\n",
    "    if row['market_state'] == 'Opening':\n",
    "        if row['reason'] == 'TRADE':\n",
    "            if row.side == 'Sell':\n",
    "                update_dict(lob_buy_dict, row['price'], row['book_change'])\n",
    "            if row.side == 'Buy':\n",
    "                update_dict(lob_sell_dict, row['price'], row['book_change'])\n",
    "    else:\n",
    "        if row.side == 'Buy':\n",
    "            update_dict(lob_buy_dict, row['price'], row['book_change'])\n",
    "        if row.side == 'Sell':\n",
    "            update_dict(lob_sell_dict, row['price'], row['book_change'])   \n",
    "    b = {x:y for x,y in lob_buy_dict.items() if y>0}\n",
    "    a = {x:y for x,y in lob_sell_dict.items() if y>0}\n",
    "    return generate_lob(a,b)\n",
    "    \n",
    "def generate_lob(a,b):\n",
    "    r = {}\n",
    "    for i in range(N):\n",
    "        r['pa' + str(i)] =  np.round(min(a.keys())+ i*0.01,2)\n",
    "        r['pb' + str(i)] =  np.round(max(b.keys())- i*0.01,2)\n",
    "        if np.round((min(a.keys())+ i*0.01),2) in a.keys():\n",
    "            r['va' + str(i)] =  a[np.round(min(a.keys())+ i*0.01,2)]\n",
    "        else:\n",
    "            r['va' + str(i)] =  0\n",
    "        if np.round((max(b.keys())- i*0.01),2) in b.keys():\n",
    "            r['vb' + str(i)] = b[np.round(max(b.keys())- i*0.01,2)]\n",
    "        else:\n",
    "            r['vb' + str(i)] =  0\n",
    "    return np.array(list(r.values())).reshape(1,4*N)"
   ]
  },
  {
   "cell_type": "markdown",
   "metadata": {},
   "source": [
    "### Generation of the LOB for one day (be aware, it might take several minutes)"
   ]
  },
  {
   "cell_type": "code",
   "execution_count": null,
   "metadata": {},
   "outputs": [],
   "source": [
    "#Set depth of the limit order book\n",
    "N = 10\n",
    "#Slice the pre-open data\n",
    "start = df[df['market_state'] == 'Pre-open'].index[-1] + 1\n",
    "lob_buy, lob_sell = nonrecursive_order_book(start, df)\n",
    "\n",
    "#Create dictionary to map price to book change\n",
    "lob_sell_dict = {}\n",
    "for price in lob_sell.index.values:\n",
    "    lob_sell_dict[price] = lob_sell.loc[price]['book_change']\n",
    "lob_buy_dict = {}\n",
    "for price in lob_buy.index.values:\n",
    "    lob_buy_dict[price] = lob_buy.loc[price]['book_change']\n",
    "\n",
    "#The limit order book after periodic bidding\n",
    "original_lob = generate_lob(lob_sell_dict, lob_buy_dict)\n",
    "df_open = df.loc[start:].copy()\n",
    "df_open.reset_index(inplace = True, drop = True)\n",
    "#Generate the limit order book\n",
    "result = list(map(lambda x : update_lob(df_open.iloc[x]), range(len(df_open))))\n",
    "\n",
    "#Concatenate the limit order book data frame with original dataframe\n",
    "lob = pd.DataFrame(np.concatenate((original_lob,np.concatenate(result))))\n",
    "col = {}\n",
    "for i in range(N):\n",
    "    col.update({(4 * i)  : 'pa'+ str(i)})\n",
    "    col.update({(4 * i + 1)  : 'pb'+ str(i)})\n",
    "    col.update({(4 * i + 2)  : 'va'+ str(i)})\n",
    "    col.update({(4 * i + 3)  : 'vb'+ str(i)})\n",
    "\n",
    "lob.rename(columns = col, inplace = True)\n",
    "merge_lob = pd.concat([df_open, lob], axis=1).reindex(lob.index)\n",
    "merge_lob.head()"
   ]
  },
  {
   "cell_type": "code",
   "execution_count": null,
   "metadata": {},
   "outputs": [],
   "source": [
    "#Plot one limit order book\n",
    "lmo = merge_lob.iloc[50000]\n",
    "vmax = np.array([lmo['vb' + str(i)] for i in range(N)] + [lmo['va' + str(i)] for i in range(N)]).max()\n",
    "fig = go.Figure()\n",
    "fig.add_bar(x = [lmo['pb' + str(i)]  for i in range(N)], y = [lmo['vb' + str(i)] for i in range(N)],name = 'bid', marker_color = '#FF8C00')\n",
    "fig.add_bar(x = [lmo['pa' + str(i)]  for i in range(N)], y = [lmo['va' + str(i)] for i in range(N)],name = 'ask', marker_color = 'rgb(70,139,256)')\n",
    "fig.add_scatter(x = [(lmo['pa0'] + lmo['pb0']) / 2, (lmo['pa0'] + lmo['pb0'])/2], mode = 'lines', y = [0, vmax], marker_color = '#696969', showlegend = False)\n",
    "fig.layout.annotations = tuple([{'font': {'size': 16},'showarrow': False,'text': \"Mid Price = \"+ str((lmo['pa0'] + lmo['pb0']) / 2),'x': 0.5,'xanchor': 'center','xref': 'paper','y': 1.0,'yanchor': 'bottom','yref': 'paper'}])\n",
    "fig.update_xaxes(showline = True, linewidth = 1, zeroline = True, linecolor = '#696969')\n",
    "fig.update_yaxes(range = [0,vmax])\n",
    "fig.show()"
   ]
  }
 ],
 "metadata": {
  "kernelspec": {
   "display_name": "Python 3",
   "language": "python",
   "name": "python3"
  },
  "language_info": {
   "codemirror_mode": {
    "name": "ipython",
    "version": 3
   },
   "file_extension": ".py",
   "mimetype": "text/x-python",
   "name": "python",
   "nbconvert_exporter": "python",
   "pygments_lexer": "ipython3",
   "version": "3.7.11"
  }
 },
 "nbformat": 4,
 "nbformat_minor": 4
}
